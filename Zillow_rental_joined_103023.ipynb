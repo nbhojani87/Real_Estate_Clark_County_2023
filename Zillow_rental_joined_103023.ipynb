{
 "cells": [
  {
   "cell_type": "markdown",
   "id": "fd368b2c-f7ae-46f0-a14f-bdc7c4efd250",
   "metadata": {},
   "source": [
    "# Zillow Rental Data"
   ]
  },
  {
   "cell_type": "markdown",
   "id": "333c0959-2d71-49be-b4a7-0859ded8500d",
   "metadata": {},
   "source": [
    "### 1. Import libraries needed"
   ]
  },
  {
   "cell_type": "code",
   "execution_count": 1,
   "id": "1a121367-8c92-4e31-ab71-855cc7c0cf5c",
   "metadata": {
    "tags": []
   },
   "outputs": [],
   "source": [
    "import pandas as pd\n",
    "import numpy as np"
   ]
  },
  {
   "cell_type": "markdown",
   "id": "a1431d06-136f-4de9-aa3b-0e9264c02a69",
   "metadata": {},
   "source": [
    "### 2. Load the 9 separate CSV files and join them into a single data frame. Remove duplicates"
   ]
  },
  {
   "cell_type": "code",
   "execution_count": 2,
   "id": "1eb2bd49-7d5d-41b4-922d-3b7c18c46f1c",
   "metadata": {
    "tags": []
   },
   "outputs": [],
   "source": [
    "# Zillow Data - Rentals\n",
    "data_1_file_path = \"/Users/mursil/workspace_neelam/Data_Projects_Personal/Real_Estate_Project/zillow/zillow_rental_data/data_1.csv\"\n",
    "data_2_file_path = \"/Users/mursil/workspace_neelam/Data_Projects_Personal/Real_Estate_Project/zillow/zillow_rental_data/data_2.csv\"\n",
    "data_3_file_path = \"/Users/mursil/workspace_neelam/Data_Projects_Personal/Real_Estate_Project/zillow/zillow_rental_data/data_3.csv\"\n",
    "data_4_file_path = \"/Users/mursil/workspace_neelam/Data_Projects_Personal/Real_Estate_Project/zillow/zillow_rental_data/data_4.csv\"\n",
    "data_5_file_path = \"/Users/mursil/workspace_neelam/Data_Projects_Personal/Real_Estate_Project/zillow/zillow_rental_data/data_5.csv\"\n",
    "data_6_file_path = \"/Users/mursil/workspace_neelam/Data_Projects_Personal/Real_Estate_Project/zillow/zillow_rental_data/data_6.csv\"\n",
    "data_7_file_path = \"/Users/mursil/workspace_neelam/Data_Projects_Personal/Real_Estate_Project/zillow/zillow_rental_data/data_7.csv\"\n",
    "data_8_file_path = \"/Users/mursil/workspace_neelam/Data_Projects_Personal/Real_Estate_Project/zillow/zillow_rental_data/data_8.csv\"\n",
    "data_9_file_path = \"/Users/mursil/workspace_neelam/Data_Projects_Personal/Real_Estate_Project/zillow/zillow_rental_data/data_9.csv\"\n",
    "\n",
    "\n",
    "# Read the CSV files into DataFrames\n",
    "data_1 = pd.read_csv(data_1_file_path)\n",
    "data_2 = pd.read_csv(data_2_file_path)\n",
    "data_3 = pd.read_csv(data_3_file_path)\n",
    "data_4 = pd.read_csv(data_4_file_path)\n",
    "data_5 = pd.read_csv(data_5_file_path)\n",
    "data_6 = pd.read_csv(data_6_file_path)\n",
    "data_7 = pd.read_csv(data_7_file_path)\n",
    "data_8 = pd.read_csv(data_8_file_path)\n",
    "data_9 = pd.read_csv(data_9_file_path)"
   ]
  },
  {
   "cell_type": "code",
   "execution_count": 3,
   "id": "1ceb5f7c-4358-45b4-adc5-e472f1257e30",
   "metadata": {
    "tags": []
   },
   "outputs": [
    {
     "data": {
      "text/html": [
       "<div>\n",
       "<style scoped>\n",
       "    .dataframe tbody tr th:only-of-type {\n",
       "        vertical-align: middle;\n",
       "    }\n",
       "\n",
       "    .dataframe tbody tr th {\n",
       "        vertical-align: top;\n",
       "    }\n",
       "\n",
       "    .dataframe thead th {\n",
       "        text-align: right;\n",
       "    }\n",
       "</style>\n",
       "<table border=\"1\" class=\"dataframe\">\n",
       "  <thead>\n",
       "    <tr style=\"text-align: right;\">\n",
       "      <th></th>\n",
       "      <th>Date Fetched</th>\n",
       "      <th>Street Address</th>\n",
       "      <th>City</th>\n",
       "      <th>State</th>\n",
       "      <th>Zip Code</th>\n",
       "      <th># Bedrooms</th>\n",
       "      <th># Bathrooms</th>\n",
       "      <th>Living Area</th>\n",
       "      <th>Lot Area</th>\n",
       "      <th>Home Type</th>\n",
       "      <th>Home Status</th>\n",
       "      <th>Zestimate</th>\n",
       "      <th>Tax Assessed Value</th>\n",
       "      <th>Rent Zestimate</th>\n",
       "      <th>Price</th>\n",
       "      <th>URL</th>\n",
       "      <th>Unnamed: 16</th>\n",
       "      <th>Unnamed: 17</th>\n",
       "      <th>Unnamed: 18</th>\n",
       "    </tr>\n",
       "  </thead>\n",
       "  <tbody>\n",
       "    <tr>\n",
       "      <th>0</th>\n",
       "      <td>2023-10-13</td>\n",
       "      <td>128 Charmante Tulip Ln</td>\n",
       "      <td>Henderson</td>\n",
       "      <td>NV</td>\n",
       "      <td>89015</td>\n",
       "      <td>3</td>\n",
       "      <td>2.5</td>\n",
       "      <td>1808</td>\n",
       "      <td>undefined</td>\n",
       "      <td>SINGLE_FAMILY</td>\n",
       "      <td>FOR_RENT</td>\n",
       "      <td>undefined</td>\n",
       "      <td>undefined</td>\n",
       "      <td>undefined</td>\n",
       "      <td>2225.0</td>\n",
       "      <td>https://www.zillow.com/homedetails/128-Charman...</td>\n",
       "      <td>NaN</td>\n",
       "      <td>NaN</td>\n",
       "      <td>NaN</td>\n",
       "    </tr>\n",
       "    <tr>\n",
       "      <th>1</th>\n",
       "      <td>2023-10-13</td>\n",
       "      <td>126 Charmante Tulip Ln</td>\n",
       "      <td>Henderson</td>\n",
       "      <td>NV</td>\n",
       "      <td>89015</td>\n",
       "      <td>3</td>\n",
       "      <td>2.5</td>\n",
       "      <td>1808</td>\n",
       "      <td>undefined</td>\n",
       "      <td>SINGLE_FAMILY</td>\n",
       "      <td>FOR_RENT</td>\n",
       "      <td>undefined</td>\n",
       "      <td>undefined</td>\n",
       "      <td>undefined</td>\n",
       "      <td>2225.0</td>\n",
       "      <td>https://www.zillow.com/homedetails/126-Charman...</td>\n",
       "      <td>NaN</td>\n",
       "      <td>NaN</td>\n",
       "      <td>NaN</td>\n",
       "    </tr>\n",
       "    <tr>\n",
       "      <th>2</th>\n",
       "      <td>2023-10-13</td>\n",
       "      <td>11713 Villa Malaparte Ave #0</td>\n",
       "      <td>Las Vegas</td>\n",
       "      <td>NV</td>\n",
       "      <td>89138</td>\n",
       "      <td>5</td>\n",
       "      <td>3.0</td>\n",
       "      <td>2532</td>\n",
       "      <td>undefined</td>\n",
       "      <td>SINGLE_FAMILY</td>\n",
       "      <td>FOR_RENT</td>\n",
       "      <td>584800</td>\n",
       "      <td>undefined</td>\n",
       "      <td>3633</td>\n",
       "      <td>2500.0</td>\n",
       "      <td>https://www.zillow.com/homedetails/11713-Villa...</td>\n",
       "      <td>NaN</td>\n",
       "      <td>NaN</td>\n",
       "      <td>NaN</td>\n",
       "    </tr>\n",
       "    <tr>\n",
       "      <th>3</th>\n",
       "      <td>2023-10-13</td>\n",
       "      <td>7324 Misty Glow Ct</td>\n",
       "      <td>Las Vegas</td>\n",
       "      <td>NV</td>\n",
       "      <td>89131</td>\n",
       "      <td>3</td>\n",
       "      <td>2.0</td>\n",
       "      <td>1416</td>\n",
       "      <td>undefined</td>\n",
       "      <td>SINGLE_FAMILY</td>\n",
       "      <td>FOR_RENT</td>\n",
       "      <td>379400</td>\n",
       "      <td>196011</td>\n",
       "      <td>1875</td>\n",
       "      <td>1950.0</td>\n",
       "      <td>https://www.zillow.com/homedetails/7324-Misty-...</td>\n",
       "      <td>NaN</td>\n",
       "      <td>NaN</td>\n",
       "      <td>NaN</td>\n",
       "    </tr>\n",
       "    <tr>\n",
       "      <th>4</th>\n",
       "      <td>2023-10-13</td>\n",
       "      <td>8436 Bay Crest Dr</td>\n",
       "      <td>Las Vegas</td>\n",
       "      <td>NV</td>\n",
       "      <td>89128</td>\n",
       "      <td>4</td>\n",
       "      <td>3.5</td>\n",
       "      <td>2422</td>\n",
       "      <td>undefined</td>\n",
       "      <td>SINGLE_FAMILY</td>\n",
       "      <td>FOR_RENT</td>\n",
       "      <td>524500</td>\n",
       "      <td>275971</td>\n",
       "      <td>2595</td>\n",
       "      <td>2800.0</td>\n",
       "      <td>https://www.zillow.com/homedetails/8436-Bay-Cr...</td>\n",
       "      <td>NaN</td>\n",
       "      <td>NaN</td>\n",
       "      <td>NaN</td>\n",
       "    </tr>\n",
       "  </tbody>\n",
       "</table>\n",
       "</div>"
      ],
      "text/plain": [
       "  Date Fetched                Street Address        City State Zip Code  \\\n",
       "0   2023-10-13        128 Charmante Tulip Ln   Henderson    NV    89015   \n",
       "1   2023-10-13        126 Charmante Tulip Ln   Henderson    NV    89015   \n",
       "2   2023-10-13  11713 Villa Malaparte Ave #0   Las Vegas    NV    89138   \n",
       "3   2023-10-13            7324 Misty Glow Ct   Las Vegas    NV    89131   \n",
       "4   2023-10-13             8436 Bay Crest Dr   Las Vegas    NV    89128   \n",
       "\n",
       "  # Bedrooms # Bathrooms Living Area    Lot Area       Home Type Home Status  \\\n",
       "0          3         2.5        1808   undefined   SINGLE_FAMILY    FOR_RENT   \n",
       "1          3         2.5        1808   undefined   SINGLE_FAMILY    FOR_RENT   \n",
       "2          5         3.0        2532   undefined   SINGLE_FAMILY    FOR_RENT   \n",
       "3          3         2.0        1416   undefined   SINGLE_FAMILY    FOR_RENT   \n",
       "4          4         3.5        2422   undefined   SINGLE_FAMILY    FOR_RENT   \n",
       "\n",
       "    Zestimate Tax Assessed Value Rent Zestimate   Price  \\\n",
       "0   undefined          undefined      undefined  2225.0   \n",
       "1   undefined          undefined      undefined  2225.0   \n",
       "2      584800          undefined           3633  2500.0   \n",
       "3      379400             196011           1875  1950.0   \n",
       "4      524500             275971           2595  2800.0   \n",
       "\n",
       "                                                 URL  Unnamed: 16  \\\n",
       "0  https://www.zillow.com/homedetails/128-Charman...          NaN   \n",
       "1  https://www.zillow.com/homedetails/126-Charman...          NaN   \n",
       "2  https://www.zillow.com/homedetails/11713-Villa...          NaN   \n",
       "3  https://www.zillow.com/homedetails/7324-Misty-...          NaN   \n",
       "4  https://www.zillow.com/homedetails/8436-Bay-Cr...          NaN   \n",
       "\n",
       "   Unnamed: 17  Unnamed: 18  \n",
       "0          NaN          NaN  \n",
       "1          NaN          NaN  \n",
       "2          NaN          NaN  \n",
       "3          NaN          NaN  \n",
       "4          NaN          NaN  "
      ]
     },
     "execution_count": 3,
     "metadata": {},
     "output_type": "execute_result"
    }
   ],
   "source": [
    "# List of DataFrames\n",
    "df = [data_1, data_2, data_3, data_4, data_5, data_6, data_7, data_8, data_9]\n",
    "\n",
    "# Concatenate DataFrames vertically\n",
    "zillow_rentals = pd.concat(df, axis=0, ignore_index=True)\n",
    "\n",
    "# Print the combined DataFrame\n",
    "zillow_rentals.head()"
   ]
  },
  {
   "cell_type": "code",
   "execution_count": 4,
   "id": "d26c4526-9ab4-4da9-9022-b5fb43022970",
   "metadata": {
    "tags": []
   },
   "outputs": [
    {
     "data": {
      "text/plain": [
       "<bound method DataFrame.info of      Date Fetched                Street Address        City       State  \\\n",
       "0      2023-10-13        128 Charmante Tulip Ln   Henderson          NV   \n",
       "1      2023-10-13        126 Charmante Tulip Ln   Henderson          NV   \n",
       "2      2023-10-13  11713 Villa Malaparte Ave #0   Las Vegas          NV   \n",
       "3      2023-10-13            7324 Misty Glow Ct   Las Vegas          NV   \n",
       "4      2023-10-13             8436 Bay Crest Dr   Las Vegas          NV   \n",
       "...           ...                           ...         ...         ...   \n",
       "6658            3                             2        1368   undefined   \n",
       "6659            3                           2.5        1779   undefined   \n",
       "6660            3                             2        1952   undefined   \n",
       "6661            3                             2        1668   undefined   \n",
       "6662            5                             3        2509   undefined   \n",
       "\n",
       "            Zip Code # Bedrooms # Bathrooms Living Area    Lot Area  \\\n",
       "0              89015          3         2.5        1808   undefined   \n",
       "1              89015          3         2.5        1808   undefined   \n",
       "2              89138          5         3.0        2532   undefined   \n",
       "3              89131          3         2.0        1416   undefined   \n",
       "4              89128          4         3.5        2422   undefined   \n",
       "...              ...        ...         ...         ...         ...   \n",
       "6658   SINGLE_FAMILY   FOR_RENT      358400      178020        1849   \n",
       "6659       TOWNHOUSE   FOR_RENT      341900      248869        2050   \n",
       "6660   SINGLE_FAMILY   FOR_RENT      453900      282760        2314   \n",
       "6661   SINGLE_FAMILY   FOR_RENT      411500      218457        1999   \n",
       "6662   SINGLE_FAMILY   FOR_RENT      736700      454986        3528   \n",
       "\n",
       "           Home Type                                        Home Status  \\\n",
       "0      SINGLE_FAMILY                                           FOR_RENT   \n",
       "1      SINGLE_FAMILY                                           FOR_RENT   \n",
       "2      SINGLE_FAMILY                                           FOR_RENT   \n",
       "3      SINGLE_FAMILY                                           FOR_RENT   \n",
       "4      SINGLE_FAMILY                                           FOR_RENT   \n",
       "...              ...                                                ...   \n",
       "6658            1900   https://www.zillow.com/homedetails/5536-La-Pe...   \n",
       "6659            2050   https://www.zillow.com/homedetails/755-Crisp-...   \n",
       "6660            2345   https://www.zillow.com/homedetails/1081-Royal...   \n",
       "6661            2095   https://www.zillow.com/homedetails/7220-Hawk-...   \n",
       "6662            3495   https://www.zillow.com/homedetails/844-Cherry...   \n",
       "\n",
       "       Zestimate Tax Assessed Value Rent Zestimate   Price  \\\n",
       "0      undefined          undefined      undefined  2225.0   \n",
       "1      undefined          undefined      undefined  2225.0   \n",
       "2         584800          undefined           3633  2500.0   \n",
       "3         379400             196011           1875  1950.0   \n",
       "4         524500             275971           2595  2800.0   \n",
       "...          ...                ...            ...     ...   \n",
       "6658         NaN                NaN            NaN     NaN   \n",
       "6659         NaN                NaN            NaN     NaN   \n",
       "6660         NaN                NaN            NaN     NaN   \n",
       "6661         NaN                NaN            NaN     NaN   \n",
       "6662         NaN                NaN            NaN     NaN   \n",
       "\n",
       "                                                    URL  Unnamed: 16  \\\n",
       "0     https://www.zillow.com/homedetails/128-Charman...          NaN   \n",
       "1     https://www.zillow.com/homedetails/126-Charman...          NaN   \n",
       "2     https://www.zillow.com/homedetails/11713-Villa...          NaN   \n",
       "3     https://www.zillow.com/homedetails/7324-Misty-...          NaN   \n",
       "4     https://www.zillow.com/homedetails/8436-Bay-Cr...          NaN   \n",
       "...                                                 ...          ...   \n",
       "6658                                                NaN          NaN   \n",
       "6659                                                NaN          NaN   \n",
       "6660                                                NaN          NaN   \n",
       "6661                                                NaN          NaN   \n",
       "6662                                                NaN          NaN   \n",
       "\n",
       "      Unnamed: 17  Unnamed: 18  \n",
       "0             NaN          NaN  \n",
       "1             NaN          NaN  \n",
       "2             NaN          NaN  \n",
       "3             NaN          NaN  \n",
       "4             NaN          NaN  \n",
       "...           ...          ...  \n",
       "6658          NaN          NaN  \n",
       "6659          NaN          NaN  \n",
       "6660          NaN          NaN  \n",
       "6661          NaN          NaN  \n",
       "6662          NaN          NaN  \n",
       "\n",
       "[6663 rows x 19 columns]>"
      ]
     },
     "execution_count": 4,
     "metadata": {},
     "output_type": "execute_result"
    }
   ],
   "source": [
    "zillow_rentals.info"
   ]
  },
  {
   "cell_type": "markdown",
   "id": "799926a9-d607-444a-b4ff-188248d958f8",
   "metadata": {},
   "source": [
    "### 3. Clean the data by removing duplicates, dealing with inconsistencies and casting correct data types"
   ]
  },
  {
   "cell_type": "code",
   "execution_count": 5,
   "id": "9a63e5b2-e8fe-41cf-95e2-0326ede36948",
   "metadata": {
    "tags": []
   },
   "outputs": [],
   "source": [
    "# Remove duplicates based on URL\n",
    "zillow_rentals = zillow_rentals.drop_duplicates(subset=['URL'])"
   ]
  },
  {
   "cell_type": "code",
   "execution_count": 6,
   "id": "246aaef1-9a38-4bc1-bfbc-446b173d1f40",
   "metadata": {
    "tags": []
   },
   "outputs": [
    {
     "data": {
      "text/html": [
       "<div>\n",
       "<style scoped>\n",
       "    .dataframe tbody tr th:only-of-type {\n",
       "        vertical-align: middle;\n",
       "    }\n",
       "\n",
       "    .dataframe tbody tr th {\n",
       "        vertical-align: top;\n",
       "    }\n",
       "\n",
       "    .dataframe thead th {\n",
       "        text-align: right;\n",
       "    }\n",
       "</style>\n",
       "<table border=\"1\" class=\"dataframe\">\n",
       "  <thead>\n",
       "    <tr style=\"text-align: right;\">\n",
       "      <th></th>\n",
       "      <th>Date Fetched</th>\n",
       "      <th>Street Address</th>\n",
       "      <th>City</th>\n",
       "      <th>State</th>\n",
       "      <th>Zip Code</th>\n",
       "      <th># Bedrooms</th>\n",
       "      <th># Bathrooms</th>\n",
       "      <th>Living Area</th>\n",
       "      <th>Lot Area</th>\n",
       "      <th>Home Type</th>\n",
       "      <th>Home Status</th>\n",
       "      <th>Zestimate</th>\n",
       "      <th>Tax Assessed Value</th>\n",
       "      <th>Rent Zestimate</th>\n",
       "      <th>Price</th>\n",
       "      <th>URL</th>\n",
       "      <th>Unnamed: 16</th>\n",
       "      <th>Unnamed: 17</th>\n",
       "      <th>Unnamed: 18</th>\n",
       "    </tr>\n",
       "  </thead>\n",
       "  <tbody>\n",
       "    <tr>\n",
       "      <th>0</th>\n",
       "      <td>2023-10-13</td>\n",
       "      <td>128 Charmante Tulip Ln</td>\n",
       "      <td>Henderson</td>\n",
       "      <td>NV</td>\n",
       "      <td>89015</td>\n",
       "      <td>3</td>\n",
       "      <td>2.5</td>\n",
       "      <td>1808</td>\n",
       "      <td>undefined</td>\n",
       "      <td>SINGLE_FAMILY</td>\n",
       "      <td>FOR_RENT</td>\n",
       "      <td>undefined</td>\n",
       "      <td>undefined</td>\n",
       "      <td>undefined</td>\n",
       "      <td>2225.0</td>\n",
       "      <td>https://www.zillow.com/homedetails/128-Charman...</td>\n",
       "      <td>NaN</td>\n",
       "      <td>NaN</td>\n",
       "      <td>NaN</td>\n",
       "    </tr>\n",
       "    <tr>\n",
       "      <th>1</th>\n",
       "      <td>2023-10-13</td>\n",
       "      <td>126 Charmante Tulip Ln</td>\n",
       "      <td>Henderson</td>\n",
       "      <td>NV</td>\n",
       "      <td>89015</td>\n",
       "      <td>3</td>\n",
       "      <td>2.5</td>\n",
       "      <td>1808</td>\n",
       "      <td>undefined</td>\n",
       "      <td>SINGLE_FAMILY</td>\n",
       "      <td>FOR_RENT</td>\n",
       "      <td>undefined</td>\n",
       "      <td>undefined</td>\n",
       "      <td>undefined</td>\n",
       "      <td>2225.0</td>\n",
       "      <td>https://www.zillow.com/homedetails/126-Charman...</td>\n",
       "      <td>NaN</td>\n",
       "      <td>NaN</td>\n",
       "      <td>NaN</td>\n",
       "    </tr>\n",
       "    <tr>\n",
       "      <th>2</th>\n",
       "      <td>2023-10-13</td>\n",
       "      <td>11713 Villa Malaparte Ave #0</td>\n",
       "      <td>Las Vegas</td>\n",
       "      <td>NV</td>\n",
       "      <td>89138</td>\n",
       "      <td>5</td>\n",
       "      <td>3.0</td>\n",
       "      <td>2532</td>\n",
       "      <td>undefined</td>\n",
       "      <td>SINGLE_FAMILY</td>\n",
       "      <td>FOR_RENT</td>\n",
       "      <td>584800</td>\n",
       "      <td>undefined</td>\n",
       "      <td>3633</td>\n",
       "      <td>2500.0</td>\n",
       "      <td>https://www.zillow.com/homedetails/11713-Villa...</td>\n",
       "      <td>NaN</td>\n",
       "      <td>NaN</td>\n",
       "      <td>NaN</td>\n",
       "    </tr>\n",
       "    <tr>\n",
       "      <th>3</th>\n",
       "      <td>2023-10-13</td>\n",
       "      <td>7324 Misty Glow Ct</td>\n",
       "      <td>Las Vegas</td>\n",
       "      <td>NV</td>\n",
       "      <td>89131</td>\n",
       "      <td>3</td>\n",
       "      <td>2.0</td>\n",
       "      <td>1416</td>\n",
       "      <td>undefined</td>\n",
       "      <td>SINGLE_FAMILY</td>\n",
       "      <td>FOR_RENT</td>\n",
       "      <td>379400</td>\n",
       "      <td>196011</td>\n",
       "      <td>1875</td>\n",
       "      <td>1950.0</td>\n",
       "      <td>https://www.zillow.com/homedetails/7324-Misty-...</td>\n",
       "      <td>NaN</td>\n",
       "      <td>NaN</td>\n",
       "      <td>NaN</td>\n",
       "    </tr>\n",
       "    <tr>\n",
       "      <th>4</th>\n",
       "      <td>2023-10-13</td>\n",
       "      <td>8436 Bay Crest Dr</td>\n",
       "      <td>Las Vegas</td>\n",
       "      <td>NV</td>\n",
       "      <td>89128</td>\n",
       "      <td>4</td>\n",
       "      <td>3.5</td>\n",
       "      <td>2422</td>\n",
       "      <td>undefined</td>\n",
       "      <td>SINGLE_FAMILY</td>\n",
       "      <td>FOR_RENT</td>\n",
       "      <td>524500</td>\n",
       "      <td>275971</td>\n",
       "      <td>2595</td>\n",
       "      <td>2800.0</td>\n",
       "      <td>https://www.zillow.com/homedetails/8436-Bay-Cr...</td>\n",
       "      <td>NaN</td>\n",
       "      <td>NaN</td>\n",
       "      <td>NaN</td>\n",
       "    </tr>\n",
       "  </tbody>\n",
       "</table>\n",
       "</div>"
      ],
      "text/plain": [
       "  Date Fetched                Street Address        City State Zip Code  \\\n",
       "0   2023-10-13        128 Charmante Tulip Ln   Henderson    NV    89015   \n",
       "1   2023-10-13        126 Charmante Tulip Ln   Henderson    NV    89015   \n",
       "2   2023-10-13  11713 Villa Malaparte Ave #0   Las Vegas    NV    89138   \n",
       "3   2023-10-13            7324 Misty Glow Ct   Las Vegas    NV    89131   \n",
       "4   2023-10-13             8436 Bay Crest Dr   Las Vegas    NV    89128   \n",
       "\n",
       "  # Bedrooms # Bathrooms Living Area    Lot Area       Home Type Home Status  \\\n",
       "0          3         2.5        1808   undefined   SINGLE_FAMILY    FOR_RENT   \n",
       "1          3         2.5        1808   undefined   SINGLE_FAMILY    FOR_RENT   \n",
       "2          5         3.0        2532   undefined   SINGLE_FAMILY    FOR_RENT   \n",
       "3          3         2.0        1416   undefined   SINGLE_FAMILY    FOR_RENT   \n",
       "4          4         3.5        2422   undefined   SINGLE_FAMILY    FOR_RENT   \n",
       "\n",
       "    Zestimate Tax Assessed Value Rent Zestimate   Price  \\\n",
       "0   undefined          undefined      undefined  2225.0   \n",
       "1   undefined          undefined      undefined  2225.0   \n",
       "2      584800          undefined           3633  2500.0   \n",
       "3      379400             196011           1875  1950.0   \n",
       "4      524500             275971           2595  2800.0   \n",
       "\n",
       "                                                 URL  Unnamed: 16  \\\n",
       "0  https://www.zillow.com/homedetails/128-Charman...          NaN   \n",
       "1  https://www.zillow.com/homedetails/126-Charman...          NaN   \n",
       "2  https://www.zillow.com/homedetails/11713-Villa...          NaN   \n",
       "3  https://www.zillow.com/homedetails/7324-Misty-...          NaN   \n",
       "4  https://www.zillow.com/homedetails/8436-Bay-Cr...          NaN   \n",
       "\n",
       "   Unnamed: 17  Unnamed: 18  \n",
       "0          NaN          NaN  \n",
       "1          NaN          NaN  \n",
       "2          NaN          NaN  \n",
       "3          NaN          NaN  \n",
       "4          NaN          NaN  "
      ]
     },
     "execution_count": 6,
     "metadata": {},
     "output_type": "execute_result"
    }
   ],
   "source": [
    "zillow_rentals.head()"
   ]
  },
  {
   "cell_type": "code",
   "execution_count": 7,
   "id": "075b019c-a8b5-43e0-bbab-c90ecd927bc2",
   "metadata": {
    "tags": []
   },
   "outputs": [
    {
     "data": {
      "text/plain": [
       "<bound method DataFrame.info of      Date Fetched                Street Address        City       State  \\\n",
       "0      2023-10-13        128 Charmante Tulip Ln   Henderson          NV   \n",
       "1      2023-10-13        126 Charmante Tulip Ln   Henderson          NV   \n",
       "2      2023-10-13  11713 Villa Malaparte Ave #0   Las Vegas          NV   \n",
       "3      2023-10-13            7324 Misty Glow Ct   Las Vegas          NV   \n",
       "4      2023-10-13             8436 Bay Crest Dr   Las Vegas          NV   \n",
       "...           ...                           ...         ...         ...   \n",
       "5849   2023-10-13           9884 Iris Valley St   Las Vegas          NV   \n",
       "5850   2023-10-13         175 Castle Course Ave   Las Vegas          NV   \n",
       "5853   2023-10-13     5981 Honeysuckle Ridge St   Las Vegas          NV   \n",
       "5854   2023-10-13           319 Island Reef Ave   Henderson          NV   \n",
       "5855            2                             2        1420   undefined   \n",
       "\n",
       "            Zip Code # Bedrooms # Bathrooms Living Area    Lot Area  \\\n",
       "0              89015          3         2.5        1808   undefined   \n",
       "1              89015          3         2.5        1808   undefined   \n",
       "2              89138          5         3.0        2532   undefined   \n",
       "3              89131          3         2.0        1416   undefined   \n",
       "4              89128          4         3.5        2422   undefined   \n",
       "...              ...        ...         ...         ...         ...   \n",
       "5849           89178          3         2.5        2124   undefined   \n",
       "5850           89148          4         3.0        2887   undefined   \n",
       "5853           89148          4         2.5        2870   undefined   \n",
       "5854           89012          3           2        1574   undefined   \n",
       "5855   SINGLE_FAMILY   FOR_RENT      357400   undefined        1863   \n",
       "\n",
       "           Home Type                                        Home Status  \\\n",
       "0      SINGLE_FAMILY                                           FOR_RENT   \n",
       "1      SINGLE_FAMILY                                           FOR_RENT   \n",
       "2      SINGLE_FAMILY                                           FOR_RENT   \n",
       "3      SINGLE_FAMILY                                           FOR_RENT   \n",
       "4      SINGLE_FAMILY                                           FOR_RENT   \n",
       "...              ...                                                ...   \n",
       "5849   SINGLE_FAMILY                                           FOR_RENT   \n",
       "5850   SINGLE_FAMILY                                           FOR_RENT   \n",
       "5853   SINGLE_FAMILY                                           FOR_RENT   \n",
       "5854   SINGLE_FAMILY                                           FOR_RENT   \n",
       "5855            1900   https://www.zillow.com/homedetails/1065-Winds...   \n",
       "\n",
       "       Zestimate Tax Assessed Value Rent Zestimate   Price  \\\n",
       "0      undefined          undefined      undefined  2225.0   \n",
       "1      undefined          undefined      undefined  2225.0   \n",
       "2         584800          undefined           3633  2500.0   \n",
       "3         379400             196011           1875  1950.0   \n",
       "4         524500             275971           2595  2800.0   \n",
       "...          ...                ...            ...     ...   \n",
       "5849      437300             290551           2264  2225.0   \n",
       "5850      552200             368237           2600  2450.0   \n",
       "5853      586000             361034           2800  2775.0   \n",
       "5854      439800           229014.0         2120.0  2400.0   \n",
       "5855         NaN                NaN            NaN     NaN   \n",
       "\n",
       "                                                    URL  Unnamed: 16  \\\n",
       "0     https://www.zillow.com/homedetails/128-Charman...          NaN   \n",
       "1     https://www.zillow.com/homedetails/126-Charman...          NaN   \n",
       "2     https://www.zillow.com/homedetails/11713-Villa...          NaN   \n",
       "3     https://www.zillow.com/homedetails/7324-Misty-...          NaN   \n",
       "4     https://www.zillow.com/homedetails/8436-Bay-Cr...          NaN   \n",
       "...                                                 ...          ...   \n",
       "5849  https://www.zillow.com/homedetails/9884-Iris-V...          NaN   \n",
       "5850  https://www.zillow.com/homedetails/175-Castle-...          NaN   \n",
       "5853  https://www.zillow.com/homedetails/5981-Honeys...          NaN   \n",
       "5854   https://www.zillow.com/homedetails/319-Island...          NaN   \n",
       "5855                                                NaN          NaN   \n",
       "\n",
       "      Unnamed: 17  Unnamed: 18  \n",
       "0             NaN          NaN  \n",
       "1             NaN          NaN  \n",
       "2             NaN          NaN  \n",
       "3             NaN          NaN  \n",
       "4             NaN          NaN  \n",
       "...           ...          ...  \n",
       "5849          NaN          NaN  \n",
       "5850          NaN          NaN  \n",
       "5853          NaN          NaN  \n",
       "5854          NaN          NaN  \n",
       "5855          NaN          NaN  \n",
       "\n",
       "[3811 rows x 19 columns]>"
      ]
     },
     "execution_count": 7,
     "metadata": {},
     "output_type": "execute_result"
    }
   ],
   "source": [
    "zillow_rentals.info"
   ]
  },
  {
   "cell_type": "code",
   "execution_count": 8,
   "id": "0e0b2392-79cb-4ef0-ad4b-eba77e2e7cbc",
   "metadata": {
    "tags": []
   },
   "outputs": [
    {
     "data": {
      "text/plain": [
       "Date Fetched           object\n",
       "Street Address         object\n",
       "City                   object\n",
       "State                  object\n",
       "Zip Code               object\n",
       "# Bedrooms             object\n",
       "# Bathrooms            object\n",
       "Living Area            object\n",
       "Lot Area               object\n",
       "Home Type              object\n",
       "Home Status            object\n",
       "Zestimate              object\n",
       "Tax Assessed Value     object\n",
       "Rent Zestimate         object\n",
       "Price                 float64\n",
       "URL                    object\n",
       "Unnamed: 16           float64\n",
       "Unnamed: 17           float64\n",
       "Unnamed: 18           float64\n",
       "dtype: object"
      ]
     },
     "execution_count": 8,
     "metadata": {},
     "output_type": "execute_result"
    }
   ],
   "source": [
    "zillow_rentals.dtypes"
   ]
  },
  {
   "cell_type": "code",
   "execution_count": 9,
   "id": "287d18e5-6cdb-4a5f-84e6-a465587e828b",
   "metadata": {
    "tags": []
   },
   "outputs": [
    {
     "data": {
      "text/plain": [
       "Index(['Date Fetched', 'Street Address', 'City', 'State', 'Zip Code',\n",
       "       '# Bedrooms', '# Bathrooms', 'Living Area', 'Lot Area', 'Home Type',\n",
       "       'Home Status', 'Zestimate', 'Tax Assessed Value', 'Rent Zestimate',\n",
       "       'Price', 'URL', 'Unnamed: 16', 'Unnamed: 17', 'Unnamed: 18'],\n",
       "      dtype='object')"
      ]
     },
     "execution_count": 9,
     "metadata": {},
     "output_type": "execute_result"
    }
   ],
   "source": [
    "zillow_rentals.columns"
   ]
  },
  {
   "cell_type": "code",
   "execution_count": 10,
   "id": "b65828d9-2a84-4749-b50a-96530e1a0574",
   "metadata": {
    "tags": []
   },
   "outputs": [],
   "source": [
    "# Exploring the data showed inconsistencies that need to be removed"
   ]
  },
  {
   "cell_type": "code",
   "execution_count": 16,
   "id": "fc0756b5-a475-494f-b039-431c7e401072",
   "metadata": {
    "tags": []
   },
   "outputs": [
    {
     "name": "stdout",
     "output_type": "stream",
     "text": [
      "['89015' '89138' '89131' '89128' '89032' '89141' '89183' '89123' '89178'\n",
      " '89052' '89148' '89139' '89108' '89147' '89081' '89031' '89034' '89102'\n",
      " '89084' '89012' '89122' '89135' '89118' '89011' '89149' '89121' '89002'\n",
      " '89044' '89074' '89145' '89129' '89115' '89113' '89166' '89179' '89014'\n",
      " '89103' '89156' '89146' '89117' '89134' '89030' '89130' '89086' '89104'\n",
      " '89101' '89107' '89144' '89119' '89109' '89142' '89120' '89106' '89169'\n",
      " '89143' '89021' '89110' '89029' '89027' '89085' '89158' '89005' '89124'\n",
      " '89040' '89007']\n"
     ]
    }
   ],
   "source": [
    "unique_zip_codes = zillow_rentals['Zip Code'].unique()\n",
    "\n",
    "# unique_zip_codes now contains an array of unique values in the 'Zip Code' column\n",
    "print(unique_zip_codes)"
   ]
  },
  {
   "cell_type": "code",
   "execution_count": 12,
   "id": "f171dc78-9166-435f-bb72-121c7e69a762",
   "metadata": {},
   "outputs": [],
   "source": [
    "# Drop rows where 'Street Address' column is '2023-10-13'\n",
    "zillow_rentals = zillow_rentals[zillow_rentals['Street Address'] != '2023-10-13']"
   ]
  },
  {
   "cell_type": "code",
   "execution_count": 13,
   "id": "2668ebc2-da33-4a90-966f-f6f31adf69d9",
   "metadata": {
    "tags": []
   },
   "outputs": [],
   "source": [
    "# Drop rows where 'Zip Code' column is ' SINGLE_FAMILY'\n",
    "zillow_rentals = zillow_rentals[zillow_rentals['Zip Code'] != ' SINGLE_FAMILY']"
   ]
  },
  {
   "cell_type": "code",
   "execution_count": 14,
   "id": "c49d82b9-2886-4301-9ad6-1051d760e435",
   "metadata": {
    "tags": []
   },
   "outputs": [],
   "source": [
    "# Remove leading spaces from zip codes\n",
    "\n",
    "zillow_rentals['Zip Code'] = zillow_rentals['Zip Code'].astype(str).str.lstrip().str.strip()"
   ]
  },
  {
   "cell_type": "code",
   "execution_count": 18,
   "id": "f184854e-97a2-48c9-806a-825467515490",
   "metadata": {
    "tags": []
   },
   "outputs": [
    {
     "data": {
      "text/plain": [
       "Date Fetched           object\n",
       "Street Address         object\n",
       "City                   object\n",
       "State                  object\n",
       "Zip Code               object\n",
       "# Bedrooms             object\n",
       "# Bathrooms            object\n",
       "Living Area            object\n",
       "Lot Area               object\n",
       "Home Type              object\n",
       "Home Status            object\n",
       "Zestimate              object\n",
       "Tax Assessed Value     object\n",
       "Rent Zestimate         object\n",
       "Price                 float64\n",
       "URL                    object\n",
       "dtype: object"
      ]
     },
     "execution_count": 18,
     "metadata": {},
     "output_type": "execute_result"
    }
   ],
   "source": [
    "# Check data types\n",
    "zillow_rentals.dtypes"
   ]
  },
  {
   "cell_type": "code",
   "execution_count": 17,
   "id": "0e171169-9a5b-41d0-b456-ba24a87573aa",
   "metadata": {
    "tags": []
   },
   "outputs": [],
   "source": [
    "# drop colums 'Unnamed: 16', 'Unnamed: 17', 'Unnamed: 18'\n",
    "\n",
    "zillow_rentals.drop(columns=['Unnamed: 16', 'Unnamed: 17', 'Unnamed: 18'], inplace=True)"
   ]
  },
  {
   "cell_type": "code",
   "execution_count": 20,
   "id": "e5819b59-4039-44cb-8d4f-a5beec914f7a",
   "metadata": {
    "tags": []
   },
   "outputs": [
    {
     "name": "stdout",
     "output_type": "stream",
     "text": [
      "'Living Area' is 'undefined' 0 times.\n"
     ]
    }
   ],
   "source": [
    "undefined_count = (zillow_rentals['Living Area'] == 'undefined').sum()\n",
    "\n",
    "print(f\"'Living Area' is 'undefined' {undefined_count} times.\")"
   ]
  },
  {
   "cell_type": "code",
   "execution_count": 36,
   "id": "8d491960-0844-4a02-98b2-cee9acde1dc1",
   "metadata": {
    "tags": []
   },
   "outputs": [],
   "source": [
    "# 'Zip Code' to integer\n",
    "# zillow_rentals['Zip Code'] = zillow_rentals['Zip Code'].astype(int)\n",
    "\n",
    "# # '# Bedrooms' to integer\n",
    "# zillow_rentals['# Bedrooms'] = zillow_rentals['# Bedrooms'].astype(int)\n",
    "\n",
    "# # '# Bathrooms' to float64\n",
    "# zillow_rentals['# Bathrooms'] = zillow_rentals['# Bathrooms'].astype(float)\n",
    "\n",
    "# # 'Living Area' to float\n",
    "# Replace ' undefined' with NaN in the 'Living Area' column after removing leading/trailing spaces\n",
    "# zillow_rentals['Living Area'] = zillow_rentals['Living Area'].apply(lambda x: x.strip() if isinstance(x, str) else x).replace(' undefined', np.nan)\n",
    "# zillow_rentals['Living Area'] = zillow_rentals['Living Area'].apply(lambda x: x.strip() if isinstance(x, str) else x).replace('undefined', np.nan)\n",
    "# zillow_rentals['Living Area'] = zillow_rentals['Living Area'].astype(float)\n",
    "\n",
    "# # 'Lot Area' to float\n",
    "# zillow_rentals['Lot Area'] = zillow_rentals['Lot Area'].apply(lambda x: x.strip() if isinstance(x, str) else x).replace(' undefined', np.nan)\n",
    "# zillow_rentals['Lot Area'] = zillow_rentals['Lot Area'].apply(lambda x: x.strip() if isinstance(x, str) else x).replace('undefined', np.nan)\n",
    "# zillow_rentals['Lot Area'] = zillow_rentals['Lot Area'].astype(float)\n",
    "\n",
    "# # 'Zestimate' to float\n",
    "# zillow_rentals['Zestimate'] = zillow_rentals['Zestimate'].apply(lambda x: x.strip() if isinstance(x, str) else x).replace(' undefined', np.nan)\n",
    "# zillow_rentals['Zestimate'] = zillow_rentals['Zestimate'].apply(lambda x: x.strip() if isinstance(x, str) else x).replace('undefined', np.nan)\n",
    "# zillow_rentals['Zestimate'] = zillow_rentals['Zestimate'].astype(float)\n",
    "\n",
    "# # 'Tax Assessed Value' to float\n",
    "# zillow_rentals['Tax Assessed Value'] = zillow_rentals['Tax Assessed Value'].apply(lambda x: x.strip() if isinstance(x, str) else x).replace(' undefined', np.nan)\n",
    "# zillow_rentals['Tax Assessed Value'] = zillow_rentals['Tax Assessed Value'].apply(lambda x: x.strip() if isinstance(x, str) else x).replace('undefined', np.nan)\n",
    "# zillow_rentals['Tax Assessed Value'] = zillow_rentals['Tax Assessed Value'].astype(float)\n",
    "drop# # 'Rent Zestimate' to float\n",
    "# zillow_rentals['Rent Zestimate'] = zillow_rentals['Rent Zestimate'].apply(lambda x: x.strip() if isinstance(x, str) else x).replace(' undefined', np.nan)\n",
    "# zillow_rentals['Rent Zestimate'] = zillow_rentals['Rent Zestimate'].apply(lambda x: x.strip() if isinstance(x, str) else x).replace('undefined', np.nan)\n",
    "# zillow_rentals['Rent Zestimate'] = zillow_rentals['Rent Zestimate'].astype(float)"
   ]
  },
  {
   "cell_type": "code",
   "execution_count": 37,
   "id": "190383ee-9ce1-4cd5-8d46-689ed0cf170f",
   "metadata": {},
   "outputs": [
    {
     "data": {
      "text/plain": [
       "Date Fetched           object\n",
       "Street Address         object\n",
       "City                   object\n",
       "State                  object\n",
       "Zip Code                int64\n",
       "# Bedrooms              int64\n",
       "# Bathrooms           float64\n",
       "Living Area           float64\n",
       "Lot Area              float64\n",
       "Home Type              object\n",
       "Home Status            object\n",
       "Zestimate             float64\n",
       "Tax Assessed Value    float64\n",
       "Rent Zestimate        float64\n",
       "Price                 float64\n",
       "URL                    object\n",
       "dtype: object"
      ]
     },
     "execution_count": 37,
     "metadata": {},
     "output_type": "execute_result"
    }
   ],
   "source": [
    "# Check data types\n",
    "zillow_rentals.dtypes"
   ]
  },
  {
   "cell_type": "code",
   "execution_count": 51,
   "id": "eaf42024-01b5-4130-b8a9-9e3e4ae693bb",
   "metadata": {
    "tags": []
   },
   "outputs": [],
   "source": [
    "# export the new dataframe to a csv\n",
    "\n",
    "zillow_rentals.to_csv(\"zillow_rentals_17102023.csv\", index = False)"
   ]
  },
  {
   "cell_type": "code",
   "execution_count": null,
   "id": "440b0105-c093-48b8-92b5-94785a4d083e",
   "metadata": {},
   "outputs": [],
   "source": []
  },
  {
   "cell_type": "code",
   "execution_count": null,
   "id": "dcfcbb19-e34f-48c2-bf4f-66e7db230dad",
   "metadata": {},
   "outputs": [],
   "source": []
  },
  {
   "cell_type": "code",
   "execution_count": null,
   "id": "fb5eb1eb-4ec7-4c7e-9a59-651d146cbbb5",
   "metadata": {},
   "outputs": [],
   "source": []
  },
  {
   "cell_type": "code",
   "execution_count": null,
   "id": "41e4a619-abe3-4984-95d3-b59f4e9ed9a1",
   "metadata": {},
   "outputs": [],
   "source": []
  },
  {
   "cell_type": "code",
   "execution_count": null,
   "id": "b0012407-a5c0-4d08-919f-3a45ea33717c",
   "metadata": {},
   "outputs": [],
   "source": []
  },
  {
   "cell_type": "code",
   "execution_count": null,
   "id": "2e8f1671-c3af-4899-a52a-bfed09b215d1",
   "metadata": {},
   "outputs": [],
   "source": []
  }
 ],
 "metadata": {
  "kernelspec": {
   "display_name": "Python 3 (ipykernel)",
   "language": "python",
   "name": "python3"
  },
  "language_info": {
   "codemirror_mode": {
    "name": "ipython",
    "version": 3
   },
   "file_extension": ".py",
   "mimetype": "text/x-python",
   "name": "python",
   "nbconvert_exporter": "python",
   "pygments_lexer": "ipython3",
   "version": "3.11.5"
  }
 },
 "nbformat": 4,
 "nbformat_minor": 5
}
