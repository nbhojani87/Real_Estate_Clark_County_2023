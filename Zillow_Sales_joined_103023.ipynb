{
 "cells": [
  {
   "cell_type": "markdown",
   "metadata": {},
   "source": [
    "# Zillow Rental Data"
   ]
  },
  {
   "cell_type": "markdown",
   "metadata": {
    "tags": []
   },
   "source": [
    "### 1. Import libraries needed"
   ]
  },
  {
   "cell_type": "code",
   "execution_count": 2,
   "metadata": {},
   "outputs": [],
   "source": [
    "import pandas as pd\n",
    "import numpy as np"
   ]
  },
  {
   "cell_type": "markdown",
   "metadata": {},
   "source": [
    "### 2. Load the 7 separate CSV files and join them into a single data frame. Remove duplicates"
   ]
  },
  {
   "cell_type": "code",
   "execution_count": 12,
   "metadata": {},
   "outputs": [],
   "source": [
    "# Zillow Data - Sales\n",
    "data_1_file_path = \"/Users/mursil/workspace_neelam/Data_Projects_Personal/Real_Estate_Project/zillow/zillow_sales_data/data_1.csv\"\n",
    "data_2_file_path = \"/Users/mursil/workspace_neelam/Data_Projects_Personal/Real_Estate_Project/zillow/zillow_sales_data/data_2.csv\"\n",
    "data_3_file_path = \"/Users/mursil/workspace_neelam/Data_Projects_Personal/Real_Estate_Project/zillow/zillow_sales_data/data_3.csv\"\n",
    "data_4_file_path = \"/Users/mursil/workspace_neelam/Data_Projects_Personal/Real_Estate_Project/zillow/zillow_sales_data/data_4.csv\"\n",
    "data_5_file_path = \"/Users/mursil/workspace_neelam/Data_Projects_Personal/Real_Estate_Project/zillow/zillow_sales_data/data_5.csv\"\n",
    "data_6_file_path = \"/Users/mursil/workspace_neelam/Data_Projects_Personal/Real_Estate_Project/zillow/zillow_sales_data/data_6.csv\"\n",
    "data_7_file_path = \"/Users/mursil/workspace_neelam/Data_Projects_Personal/Real_Estate_Project/zillow/zillow_sales_data/data_7.csv\"\n",
    "\n",
    "\n",
    "# Read the CSV files into a DataFrames\n",
    "data_1 = pd.read_csv(data_1_file_path)\n",
    "data_2 = pd.read_csv(data_2_file_path)\n",
    "data_3 = pd.read_csv(data_3_file_path)\n",
    "data_4 = pd.read_csv(data_4_file_path)\n",
    "data_5 = pd.read_csv(data_5_file_path)\n",
    "data_6 = pd.read_csv(data_6_file_path)\n",
    "data_7 = pd.read_csv(data_7_file_path)"
   ]
  },
  {
   "cell_type": "code",
   "execution_count": 13,
   "metadata": {},
   "outputs": [
    {
     "data": {
      "text/html": [
       "<div>\n",
       "<style scoped>\n",
       "    .dataframe tbody tr th:only-of-type {\n",
       "        vertical-align: middle;\n",
       "    }\n",
       "\n",
       "    .dataframe tbody tr th {\n",
       "        vertical-align: top;\n",
       "    }\n",
       "\n",
       "    .dataframe thead th {\n",
       "        text-align: right;\n",
       "    }\n",
       "</style>\n",
       "<table border=\"1\" class=\"dataframe\">\n",
       "  <thead>\n",
       "    <tr style=\"text-align: right;\">\n",
       "      <th></th>\n",
       "      <th>Date Fetched</th>\n",
       "      <th>Street Address</th>\n",
       "      <th>City</th>\n",
       "      <th>State</th>\n",
       "      <th>Zip Code</th>\n",
       "      <th># Bedrooms</th>\n",
       "      <th># Bathrooms</th>\n",
       "      <th>Living Area</th>\n",
       "      <th>Lot Area</th>\n",
       "      <th>Home Type</th>\n",
       "      <th>Home Status</th>\n",
       "      <th>Zestimate</th>\n",
       "      <th>Tax Assessed Value</th>\n",
       "      <th>Rent Zestimate</th>\n",
       "      <th>Price</th>\n",
       "      <th>URL</th>\n",
       "    </tr>\n",
       "  </thead>\n",
       "  <tbody>\n",
       "    <tr>\n",
       "      <th>0</th>\n",
       "      <td>2023-10-11</td>\n",
       "      <td>6128 Jones Cir</td>\n",
       "      <td>Las Vegas</td>\n",
       "      <td>NV</td>\n",
       "      <td>89107</td>\n",
       "      <td>3</td>\n",
       "      <td>3</td>\n",
       "      <td>1636</td>\n",
       "      <td>0.25</td>\n",
       "      <td>SINGLE_FAMILY</td>\n",
       "      <td>FOR_SALE</td>\n",
       "      <td>388900</td>\n",
       "      <td>129448</td>\n",
       "      <td>2156</td>\n",
       "      <td>389000</td>\n",
       "      <td>https://www.zillow.com/homedetails/6128-Jones...</td>\n",
       "    </tr>\n",
       "    <tr>\n",
       "      <th>1</th>\n",
       "      <td>2023-10-11</td>\n",
       "      <td>103 Santana Ct</td>\n",
       "      <td>Henderson</td>\n",
       "      <td>NV</td>\n",
       "      <td>89012</td>\n",
       "      <td>3</td>\n",
       "      <td>2</td>\n",
       "      <td>1538</td>\n",
       "      <td>6534</td>\n",
       "      <td>SINGLE_FAMILY</td>\n",
       "      <td>FOR_SALE</td>\n",
       "      <td>447400</td>\n",
       "      <td>225897</td>\n",
       "      <td>2127</td>\n",
       "      <td>448000</td>\n",
       "      <td>https://www.zillow.com/homedetails/103-Santan...</td>\n",
       "    </tr>\n",
       "    <tr>\n",
       "      <th>2</th>\n",
       "      <td>2023-10-11</td>\n",
       "      <td>18 Lowery St</td>\n",
       "      <td>Henderson</td>\n",
       "      <td>NV</td>\n",
       "      <td>89015</td>\n",
       "      <td>3</td>\n",
       "      <td>2</td>\n",
       "      <td>1688</td>\n",
       "      <td>6534</td>\n",
       "      <td>SINGLE_FAMILY</td>\n",
       "      <td>FOR_SALE</td>\n",
       "      <td>389300</td>\n",
       "      <td>105437</td>\n",
       "      <td>2094</td>\n",
       "      <td>389999</td>\n",
       "      <td>https://www.zillow.com/homedetails/18-Lowery-...</td>\n",
       "    </tr>\n",
       "    <tr>\n",
       "      <th>3</th>\n",
       "      <td>2023-10-11</td>\n",
       "      <td>3398 El Camino Real</td>\n",
       "      <td>Las Vegas</td>\n",
       "      <td>NV</td>\n",
       "      <td>89121</td>\n",
       "      <td>5</td>\n",
       "      <td>2</td>\n",
       "      <td>2127</td>\n",
       "      <td>8712</td>\n",
       "      <td>SINGLE_FAMILY</td>\n",
       "      <td>FOR_SALE</td>\n",
       "      <td>514700</td>\n",
       "      <td>153071</td>\n",
       "      <td>2510</td>\n",
       "      <td>515000</td>\n",
       "      <td>https://www.zillow.com/homedetails/3398-El-Ca...</td>\n",
       "    </tr>\n",
       "    <tr>\n",
       "      <th>4</th>\n",
       "      <td>2023-10-11</td>\n",
       "      <td>56 Nellywood Ct</td>\n",
       "      <td>Henderson</td>\n",
       "      <td>NV</td>\n",
       "      <td>89012</td>\n",
       "      <td>4</td>\n",
       "      <td>3</td>\n",
       "      <td>1915</td>\n",
       "      <td>6534</td>\n",
       "      <td>SINGLE_FAMILY</td>\n",
       "      <td>FOR_SALE</td>\n",
       "      <td>undefined</td>\n",
       "      <td>324871</td>\n",
       "      <td>undefined</td>\n",
       "      <td>539900</td>\n",
       "      <td>https://www.zillow.com/homedetails/56-Nellywo...</td>\n",
       "    </tr>\n",
       "  </tbody>\n",
       "</table>\n",
       "</div>"
      ],
      "text/plain": [
       "  Date Fetched        Street Address        City State  Zip Code  # Bedrooms  \\\n",
       "0   2023-10-11        6128 Jones Cir   Las Vegas    NV     89107           3   \n",
       "1   2023-10-11        103 Santana Ct   Henderson    NV     89012           3   \n",
       "2   2023-10-11          18 Lowery St   Henderson    NV     89015           3   \n",
       "3   2023-10-11   3398 El Camino Real   Las Vegas    NV     89121           5   \n",
       "4   2023-10-11       56 Nellywood Ct   Henderson    NV     89012           4   \n",
       "\n",
       "  # Bathrooms  Living Area Lot Area       Home Type Home Status   Zestimate  \\\n",
       "0           3         1636     0.25   SINGLE_FAMILY    FOR_SALE      388900   \n",
       "1           2         1538     6534   SINGLE_FAMILY    FOR_SALE      447400   \n",
       "2           2         1688     6534   SINGLE_FAMILY    FOR_SALE      389300   \n",
       "3           2         2127     8712   SINGLE_FAMILY    FOR_SALE      514700   \n",
       "4           3         1915     6534   SINGLE_FAMILY    FOR_SALE   undefined   \n",
       "\n",
       "  Tax Assessed Value Rent Zestimate   Price  \\\n",
       "0             129448           2156  389000   \n",
       "1             225897           2127  448000   \n",
       "2             105437           2094  389999   \n",
       "3             153071           2510  515000   \n",
       "4             324871      undefined  539900   \n",
       "\n",
       "                                                 URL  \n",
       "0   https://www.zillow.com/homedetails/6128-Jones...  \n",
       "1   https://www.zillow.com/homedetails/103-Santan...  \n",
       "2   https://www.zillow.com/homedetails/18-Lowery-...  \n",
       "3   https://www.zillow.com/homedetails/3398-El-Ca...  \n",
       "4   https://www.zillow.com/homedetails/56-Nellywo...  "
      ]
     },
     "execution_count": 13,
     "metadata": {},
     "output_type": "execute_result"
    }
   ],
   "source": [
    "# List of DataFrames\n",
    "df = [data_1, data_2, data_3, data_4, data_5, data_6, data_7]\n",
    "\n",
    "# Concatenate DataFrames vertically\n",
    "zillow_sales = pd.concat(df, axis=0, ignore_index=True)\n",
    "\n",
    "# Print the combined DataFrame\n",
    "zillow_sales.head()"
   ]
  },
  {
   "cell_type": "code",
   "execution_count": 14,
   "metadata": {},
   "outputs": [],
   "source": [
    "# Reset the display option to its default value\n",
    "pd.set_option('display.max_colwidth', 50) "
   ]
  },
  {
   "cell_type": "code",
   "execution_count": 15,
   "metadata": {},
   "outputs": [
    {
     "data": {
      "text/plain": [
       "<bound method DataFrame.info of      Date Fetched         Street Address        City State  Zip Code  \\\n",
       "0      2023-10-11         6128 Jones Cir   Las Vegas    NV     89107   \n",
       "1      2023-10-11         103 Santana Ct   Henderson    NV     89012   \n",
       "2      2023-10-11           18 Lowery St   Henderson    NV     89015   \n",
       "3      2023-10-11    3398 El Camino Real   Las Vegas    NV     89121   \n",
       "4      2023-10-11        56 Nellywood Ct   Henderson    NV     89012   \n",
       "...           ...                    ...         ...   ...       ...   \n",
       "5735   2023-10-11       7687 W Pebble Rd   Las Vegas    NV     89113   \n",
       "5736   2023-10-11        70 Rezzonico Dr   Henderson    NV     89011   \n",
       "5737   2023-10-11         216 Errogie St   Henderson    NV     89012   \n",
       "5738   2023-10-11   9719 August Rain Ave   Las Vegas    NV     89149   \n",
       "5739   2023-10-11   5442 Tartan Hill Ave   Las Vegas    NV     89141   \n",
       "\n",
       "      # Bedrooms # Bathrooms  Living Area Lot Area       Home Type  \\\n",
       "0              3           3         1636     0.25   SINGLE_FAMILY   \n",
       "1              3           2         1538     6534   SINGLE_FAMILY   \n",
       "2              3           2         1688     6534   SINGLE_FAMILY   \n",
       "3              5           2         2127     8712   SINGLE_FAMILY   \n",
       "4              4           3         1915     6534   SINGLE_FAMILY   \n",
       "...          ...         ...          ...      ...             ...   \n",
       "5735           3           4         3255     0.53   SINGLE_FAMILY   \n",
       "5736           3           4         2960   9583.2   SINGLE_FAMILY   \n",
       "5737           4           4         3401   4791.6   SINGLE_FAMILY   \n",
       "5738           4           4         3657     0.52   SINGLE_FAMILY   \n",
       "5739           5           4         3971     4356   SINGLE_FAMILY   \n",
       "\n",
       "     Home Status   Zestimate Tax Assessed Value Rent Zestimate    Price  \\\n",
       "0       FOR_SALE      388900             129448           2156   389000   \n",
       "1       FOR_SALE      447400             225897           2127   448000   \n",
       "2       FOR_SALE      389300             105437           2094   389999   \n",
       "3       FOR_SALE      514700             153071           2510   515000   \n",
       "4       FOR_SALE   undefined             324871      undefined   539900   \n",
       "...          ...         ...                ...            ...      ...   \n",
       "5735    FOR_SALE      948600             641666           4586   980000   \n",
       "5736    FOR_SALE     1244900             679017           5458  1249000   \n",
       "5737    FOR_SALE      940500             709094           4591   975000   \n",
       "5738    FOR_SALE     1237000             686320           6349  1275000   \n",
       "5739    FOR_SALE      693200             472083           3499   675000   \n",
       "\n",
       "                                                    URL  \n",
       "0      https://www.zillow.com/homedetails/6128-Jones...  \n",
       "1      https://www.zillow.com/homedetails/103-Santan...  \n",
       "2      https://www.zillow.com/homedetails/18-Lowery-...  \n",
       "3      https://www.zillow.com/homedetails/3398-El-Ca...  \n",
       "4      https://www.zillow.com/homedetails/56-Nellywo...  \n",
       "...                                                 ...  \n",
       "5735   https://www.zillow.com/homedetails/7687-W-Peb...  \n",
       "5736   https://www.zillow.com/homedetails/70-Rezzoni...  \n",
       "5737   https://www.zillow.com/homedetails/216-Errogi...  \n",
       "5738   https://www.zillow.com/homedetails/9719-Augus...  \n",
       "5739   https://www.zillow.com/homedetails/5442-Tarta...  \n",
       "\n",
       "[5740 rows x 16 columns]>"
      ]
     },
     "execution_count": 15,
     "metadata": {},
     "output_type": "execute_result"
    }
   ],
   "source": [
    "zillow_sales.info"
   ]
  },
  {
   "cell_type": "markdown",
   "metadata": {},
   "source": [
    "### 3. Clean the data by removing duplicates, dealing with inconsistencies and casting correct data types"
   ]
  },
  {
   "cell_type": "code",
   "execution_count": 16,
   "metadata": {},
   "outputs": [],
   "source": [
    "# Remove duplicates based on URL\n",
    "zillow_sales = zillow_sales.drop_duplicates(subset=['URL'])"
   ]
  },
  {
   "cell_type": "code",
   "execution_count": 17,
   "metadata": {},
   "outputs": [
    {
     "data": {
      "text/plain": [
       "<bound method DataFrame.info of      Date Fetched            Street Address        City State  Zip Code  \\\n",
       "0      2023-10-11            6128 Jones Cir   Las Vegas    NV     89107   \n",
       "1      2023-10-11            103 Santana Ct   Henderson    NV     89012   \n",
       "2      2023-10-11              18 Lowery St   Henderson    NV     89015   \n",
       "3      2023-10-11       3398 El Camino Real   Las Vegas    NV     89121   \n",
       "4      2023-10-11           56 Nellywood Ct   Henderson    NV     89012   \n",
       "...           ...                       ...         ...   ...       ...   \n",
       "5720   2023-10-11       2188 Anserville Ave   Henderson    NV     89044   \n",
       "5731   2023-10-11     7176 Summer Grove Ave   Las Vegas    NV     89117   \n",
       "5733   2023-10-11   6015 Mendocino Hill Ave   Las Vegas    NV     89139   \n",
       "5734   2023-10-11           7340 Marbury St   Las Vegas    NV     89166   \n",
       "5737   2023-10-11            216 Errogie St   Henderson    NV     89012   \n",
       "\n",
       "      # Bedrooms # Bathrooms  Living Area Lot Area       Home Type  \\\n",
       "0              3           3         1636     0.25   SINGLE_FAMILY   \n",
       "1              3           2         1538     6534   SINGLE_FAMILY   \n",
       "2              3           2         1688     6534   SINGLE_FAMILY   \n",
       "3              5           2         2127     8712   SINGLE_FAMILY   \n",
       "4              4           3         1915     6534   SINGLE_FAMILY   \n",
       "...          ...         ...          ...      ...             ...   \n",
       "5720           4           4         3364   5227.2   SINGLE_FAMILY   \n",
       "5731           4           4         3122   5227.2   SINGLE_FAMILY   \n",
       "5733           4           4         2644   3484.8   SINGLE_FAMILY   \n",
       "5734           4           4         3807     6534   SINGLE_FAMILY   \n",
       "5737           4           4         3401   4791.6   SINGLE_FAMILY   \n",
       "\n",
       "     Home Status   Zestimate Tax Assessed Value Rent Zestimate   Price  \\\n",
       "0       FOR_SALE      388900             129448           2156  389000   \n",
       "1       FOR_SALE      447400             225897           2127  448000   \n",
       "2       FOR_SALE      389300             105437           2094  389999   \n",
       "3       FOR_SALE      514700             153071           2510  515000   \n",
       "4       FOR_SALE   undefined             324871      undefined  539900   \n",
       "...          ...         ...                ...            ...     ...   \n",
       "5720    FOR_SALE      658900             501091           3410  685000   \n",
       "5731    FOR_SALE      672400             432477           2900  689500   \n",
       "5733    FOR_SALE   undefined             373109      undefined  520000   \n",
       "5734    FOR_SALE      635700             521583           3200  649900   \n",
       "5737    FOR_SALE      940500             709094           4591  975000   \n",
       "\n",
       "                                                    URL  \n",
       "0      https://www.zillow.com/homedetails/6128-Jones...  \n",
       "1      https://www.zillow.com/homedetails/103-Santan...  \n",
       "2      https://www.zillow.com/homedetails/18-Lowery-...  \n",
       "3      https://www.zillow.com/homedetails/3398-El-Ca...  \n",
       "4      https://www.zillow.com/homedetails/56-Nellywo...  \n",
       "...                                                 ...  \n",
       "5720   https://www.zillow.com/homedetails/2188-Anser...  \n",
       "5731   https://www.zillow.com/homedetails/7176-Summe...  \n",
       "5733   https://www.zillow.com/homedetails/6015-Mendo...  \n",
       "5734   https://www.zillow.com/homedetails/7340-Marbu...  \n",
       "5737   https://www.zillow.com/homedetails/216-Errogi...  \n",
       "\n",
       "[3071 rows x 16 columns]>"
      ]
     },
     "execution_count": 17,
     "metadata": {},
     "output_type": "execute_result"
    }
   ],
   "source": [
    "zillow_sales.info"
   ]
  },
  {
   "cell_type": "code",
   "execution_count": 18,
   "metadata": {},
   "outputs": [
    {
     "data": {
      "text/html": [
       "<div>\n",
       "<style scoped>\n",
       "    .dataframe tbody tr th:only-of-type {\n",
       "        vertical-align: middle;\n",
       "    }\n",
       "\n",
       "    .dataframe tbody tr th {\n",
       "        vertical-align: top;\n",
       "    }\n",
       "\n",
       "    .dataframe thead th {\n",
       "        text-align: right;\n",
       "    }\n",
       "</style>\n",
       "<table border=\"1\" class=\"dataframe\">\n",
       "  <thead>\n",
       "    <tr style=\"text-align: right;\">\n",
       "      <th></th>\n",
       "      <th>Date Fetched</th>\n",
       "      <th>Street Address</th>\n",
       "      <th>City</th>\n",
       "      <th>State</th>\n",
       "      <th>Zip Code</th>\n",
       "      <th># Bedrooms</th>\n",
       "      <th># Bathrooms</th>\n",
       "      <th>Living Area</th>\n",
       "      <th>Lot Area</th>\n",
       "      <th>Home Type</th>\n",
       "      <th>Home Status</th>\n",
       "      <th>Zestimate</th>\n",
       "      <th>Tax Assessed Value</th>\n",
       "      <th>Rent Zestimate</th>\n",
       "      <th>Price</th>\n",
       "      <th>URL</th>\n",
       "    </tr>\n",
       "  </thead>\n",
       "  <tbody>\n",
       "    <tr>\n",
       "      <th>0</th>\n",
       "      <td>2023-10-11</td>\n",
       "      <td>6128 Jones Cir</td>\n",
       "      <td>Las Vegas</td>\n",
       "      <td>NV</td>\n",
       "      <td>89107</td>\n",
       "      <td>3</td>\n",
       "      <td>3</td>\n",
       "      <td>1636</td>\n",
       "      <td>0.25</td>\n",
       "      <td>SINGLE_FAMILY</td>\n",
       "      <td>FOR_SALE</td>\n",
       "      <td>388900</td>\n",
       "      <td>129448</td>\n",
       "      <td>2156</td>\n",
       "      <td>389000</td>\n",
       "      <td>https://www.zillow.com/homedetails/6128-Jones...</td>\n",
       "    </tr>\n",
       "    <tr>\n",
       "      <th>1</th>\n",
       "      <td>2023-10-11</td>\n",
       "      <td>103 Santana Ct</td>\n",
       "      <td>Henderson</td>\n",
       "      <td>NV</td>\n",
       "      <td>89012</td>\n",
       "      <td>3</td>\n",
       "      <td>2</td>\n",
       "      <td>1538</td>\n",
       "      <td>6534</td>\n",
       "      <td>SINGLE_FAMILY</td>\n",
       "      <td>FOR_SALE</td>\n",
       "      <td>447400</td>\n",
       "      <td>225897</td>\n",
       "      <td>2127</td>\n",
       "      <td>448000</td>\n",
       "      <td>https://www.zillow.com/homedetails/103-Santan...</td>\n",
       "    </tr>\n",
       "    <tr>\n",
       "      <th>2</th>\n",
       "      <td>2023-10-11</td>\n",
       "      <td>18 Lowery St</td>\n",
       "      <td>Henderson</td>\n",
       "      <td>NV</td>\n",
       "      <td>89015</td>\n",
       "      <td>3</td>\n",
       "      <td>2</td>\n",
       "      <td>1688</td>\n",
       "      <td>6534</td>\n",
       "      <td>SINGLE_FAMILY</td>\n",
       "      <td>FOR_SALE</td>\n",
       "      <td>389300</td>\n",
       "      <td>105437</td>\n",
       "      <td>2094</td>\n",
       "      <td>389999</td>\n",
       "      <td>https://www.zillow.com/homedetails/18-Lowery-...</td>\n",
       "    </tr>\n",
       "    <tr>\n",
       "      <th>3</th>\n",
       "      <td>2023-10-11</td>\n",
       "      <td>3398 El Camino Real</td>\n",
       "      <td>Las Vegas</td>\n",
       "      <td>NV</td>\n",
       "      <td>89121</td>\n",
       "      <td>5</td>\n",
       "      <td>2</td>\n",
       "      <td>2127</td>\n",
       "      <td>8712</td>\n",
       "      <td>SINGLE_FAMILY</td>\n",
       "      <td>FOR_SALE</td>\n",
       "      <td>514700</td>\n",
       "      <td>153071</td>\n",
       "      <td>2510</td>\n",
       "      <td>515000</td>\n",
       "      <td>https://www.zillow.com/homedetails/3398-El-Ca...</td>\n",
       "    </tr>\n",
       "    <tr>\n",
       "      <th>4</th>\n",
       "      <td>2023-10-11</td>\n",
       "      <td>56 Nellywood Ct</td>\n",
       "      <td>Henderson</td>\n",
       "      <td>NV</td>\n",
       "      <td>89012</td>\n",
       "      <td>4</td>\n",
       "      <td>3</td>\n",
       "      <td>1915</td>\n",
       "      <td>6534</td>\n",
       "      <td>SINGLE_FAMILY</td>\n",
       "      <td>FOR_SALE</td>\n",
       "      <td>undefined</td>\n",
       "      <td>324871</td>\n",
       "      <td>undefined</td>\n",
       "      <td>539900</td>\n",
       "      <td>https://www.zillow.com/homedetails/56-Nellywo...</td>\n",
       "    </tr>\n",
       "  </tbody>\n",
       "</table>\n",
       "</div>"
      ],
      "text/plain": [
       "  Date Fetched        Street Address        City State  Zip Code  # Bedrooms  \\\n",
       "0   2023-10-11        6128 Jones Cir   Las Vegas    NV     89107           3   \n",
       "1   2023-10-11        103 Santana Ct   Henderson    NV     89012           3   \n",
       "2   2023-10-11          18 Lowery St   Henderson    NV     89015           3   \n",
       "3   2023-10-11   3398 El Camino Real   Las Vegas    NV     89121           5   \n",
       "4   2023-10-11       56 Nellywood Ct   Henderson    NV     89012           4   \n",
       "\n",
       "  # Bathrooms  Living Area Lot Area       Home Type Home Status   Zestimate  \\\n",
       "0           3         1636     0.25   SINGLE_FAMILY    FOR_SALE      388900   \n",
       "1           2         1538     6534   SINGLE_FAMILY    FOR_SALE      447400   \n",
       "2           2         1688     6534   SINGLE_FAMILY    FOR_SALE      389300   \n",
       "3           2         2127     8712   SINGLE_FAMILY    FOR_SALE      514700   \n",
       "4           3         1915     6534   SINGLE_FAMILY    FOR_SALE   undefined   \n",
       "\n",
       "  Tax Assessed Value Rent Zestimate   Price  \\\n",
       "0             129448           2156  389000   \n",
       "1             225897           2127  448000   \n",
       "2             105437           2094  389999   \n",
       "3             153071           2510  515000   \n",
       "4             324871      undefined  539900   \n",
       "\n",
       "                                                 URL  \n",
       "0   https://www.zillow.com/homedetails/6128-Jones...  \n",
       "1   https://www.zillow.com/homedetails/103-Santan...  \n",
       "2   https://www.zillow.com/homedetails/18-Lowery-...  \n",
       "3   https://www.zillow.com/homedetails/3398-El-Ca...  \n",
       "4   https://www.zillow.com/homedetails/56-Nellywo...  "
      ]
     },
     "execution_count": 18,
     "metadata": {},
     "output_type": "execute_result"
    }
   ],
   "source": [
    "zillow_sales.head()"
   ]
  },
  {
   "cell_type": "code",
   "execution_count": 44,
   "metadata": {},
   "outputs": [
    {
     "data": {
      "text/plain": [
       "Date Fetched           object\n",
       "Street Address         object\n",
       "City                   object\n",
       "State                  object\n",
       "Zip Code                int64\n",
       "# Bedrooms              int64\n",
       "# Bathrooms           float64\n",
       "Living Area             int64\n",
       "Lot Area              float64\n",
       "Home Type              object\n",
       "Home Status            object\n",
       "Zestimate             float64\n",
       "Tax Assessed Value    float64\n",
       "Rent Zestimate        float64\n",
       "Price                   int64\n",
       "URL                    object\n",
       "dtype: object"
      ]
     },
     "execution_count": 44,
     "metadata": {},
     "output_type": "execute_result"
    }
   ],
   "source": [
    "zillow_sales.dtypes"
   ]
  },
  {
   "cell_type": "code",
   "execution_count": 43,
   "metadata": {
    "tags": []
   },
   "outputs": [
    {
     "name": "stderr",
     "output_type": "stream",
     "text": [
      "/var/folders/pf/r9flm_ss28b_94vmlgh6z2180000gn/T/ipykernel_3551/1370938178.py:28: SettingWithCopyWarning: \n",
      "A value is trying to be set on a copy of a slice from a DataFrame.\n",
      "Try using .loc[row_indexer,col_indexer] = value instead\n",
      "\n",
      "See the caveats in the documentation: https://pandas.pydata.org/pandas-docs/stable/user_guide/indexing.html#returning-a-view-versus-a-copy\n",
      "  zillow_sales['Rent Zestimate'] = zillow_sales['Rent Zestimate'].apply(lambda x: x.strip() if isinstance(x, str) else x).replace(' undefined', np.nan)\n",
      "/var/folders/pf/r9flm_ss28b_94vmlgh6z2180000gn/T/ipykernel_3551/1370938178.py:29: SettingWithCopyWarning: \n",
      "A value is trying to be set on a copy of a slice from a DataFrame.\n",
      "Try using .loc[row_indexer,col_indexer] = value instead\n",
      "\n",
      "See the caveats in the documentation: https://pandas.pydata.org/pandas-docs/stable/user_guide/indexing.html#returning-a-view-versus-a-copy\n",
      "  zillow_sales['Rent Zestimate'] = zillow_sales['Rent Zestimate'].apply(lambda x: x.strip() if isinstance(x, str) else x).replace('undefined', np.nan)\n",
      "/var/folders/pf/r9flm_ss28b_94vmlgh6z2180000gn/T/ipykernel_3551/1370938178.py:30: SettingWithCopyWarning: \n",
      "A value is trying to be set on a copy of a slice from a DataFrame.\n",
      "Try using .loc[row_indexer,col_indexer] = value instead\n",
      "\n",
      "See the caveats in the documentation: https://pandas.pydata.org/pandas-docs/stable/user_guide/indexing.html#returning-a-view-versus-a-copy\n",
      "  zillow_sales['Rent Zestimate'] = zillow_sales['Rent Zestimate'].astype(float)\n"
     ]
    }
   ],
   "source": [
    "# Cast to correct data types\n",
    "\n",
    "# # '# Bathrooms' to float64\n",
    "# zillow_sales.loc[:, '# Bathrooms'] = zillow_sales['# Bathrooms'].apply(lambda x: x.strip() if isinstance(x, str) else x).replace(' undefined', np.nan)\n",
    "# zillow_sales.loc[:, '# Bathrooms'] = zillow_sales['# Bathrooms'].apply(lambda x: x.strip() if isinstance(x, str) else x).replace('undefined', np.nan)\n",
    "# zillow_sales.loc[:, '# Bathrooms'] = zillow_sales['# Bathrooms'].astype(float)\n",
    "\n",
    "# # # # 'Lot Area' to float\n",
    "# # Convert non-numeric values to NaN and then convert the column to numeric\n",
    "# zillow_sales['Lot Area'] = pd.to_numeric(zillow_sales['Lot Area'], errors='coerce')\n",
    "# # Now, replace specific strings with NaN if necessary\n",
    "# zillow_sales['Lot Area'].replace('undefined', np.nan, inplace=True)\n",
    "# zillow_sales['Lot Area'].replace(' undefined', np.nan, inplace=True)\n",
    "# # Convert the column to float\n",
    "# zillow_sales['Lot Area'] = zillow_sales['Lot Area'].astype(float)\n",
    "\n",
    "# # # 'Zestimate' to float\n",
    "# zillow_sales['Zestimate'] = zillow_sales['Zestimate'].apply(lambda x: x.strip() if isinstance(x, str) else x).replace(' undefined', np.nan)\n",
    "# zillow_sales['Zestimate'] = zillow_sales['Zestimate'].apply(lambda x: x.strip() if isinstance(x, str) else x).replace('undefined', np.nan)\n",
    "# zillow_sales['Zestimate'] = zillow_sales['Zestimate'].astype(float)\n",
    "\n",
    "# # # 'Tax Assessed Value' to float\n",
    "# zillow_sales['Tax Assessed Value'] = zillow_sales['Tax Assessed Value'].apply(lambda x: x.strip() if isinstance(x, str) else x).replace(' undefined', np.nan)\n",
    "# zillow_sales['Tax Assessed Value'] = zillow_sales['Tax Assessed Value'].apply(lambda x: x.strip() if isinstance(x, str) else x).replace('undefined', np.nan)\n",
    "# zillow_sales['Tax Assessed Value'] = zillow_sales['Tax Assessed Value'].astype(float)\n",
    "\n",
    "# # 'Rent Zestimate' to float\n",
    "zillow_sales['Rent Zestimate'] = zillow_sales['Rent Zestimate'].apply(lambda x: x.strip() if isinstance(x, str) else x).replace(' undefined', np.nan)\n",
    "zillow_sales['Rent Zestimate'] = zillow_sales['Rent Zestimate'].apply(lambda x: x.strip() if isinstance(x, str) else x).replace('undefined', np.nan)\n",
    "zillow_sales['Rent Zestimate'] = zillow_sales['Rent Zestimate'].astype(float)"
   ]
  },
  {
   "cell_type": "code",
   "execution_count": 47,
   "metadata": {
    "tags": []
   },
   "outputs": [
    {
     "name": "stderr",
     "output_type": "stream",
     "text": [
      "/Users/mursil/anaconda3/lib/python3.11/site-packages/ydata_profiling/utils/dataframe.py:137: SettingWithCopyWarning: \n",
      "A value is trying to be set on a copy of a slice from a DataFrame\n",
      "\n",
      "See the caveats in the documentation: https://pandas.pydata.org/pandas-docs/stable/user_guide/indexing.html#returning-a-view-versus-a-copy\n",
      "  df.rename(columns={\"index\": \"df_index\"}, inplace=True)\n"
     ]
    },
    {
     "data": {
      "application/vnd.jupyter.widget-view+json": {
       "model_id": "a93ce8c4b496460bbfb09dd6b2e1c94d",
       "version_major": 2,
       "version_minor": 0
      },
      "text/plain": [
       "Summarize dataset:   0%|          | 0/5 [00:00<?, ?it/s]"
      ]
     },
     "metadata": {},
     "output_type": "display_data"
    },
    {
     "data": {
      "application/vnd.jupyter.widget-view+json": {
       "model_id": "b445bc1e4afd4253aad185126796d219",
       "version_major": 2,
       "version_minor": 0
      },
      "text/plain": [
       "Generate report structure:   0%|          | 0/1 [00:00<?, ?it/s]"
      ]
     },
     "metadata": {},
     "output_type": "display_data"
    },
    {
     "data": {
      "application/vnd.jupyter.widget-view+json": {
       "model_id": "7d994c5ccb084e9d9101903682c65d16",
       "version_major": 2,
       "version_minor": 0
      },
      "text/plain": [
       "Render HTML:   0%|          | 0/1 [00:00<?, ?it/s]"
      ]
     },
     "metadata": {},
     "output_type": "display_data"
    },
    {
     "data": {
      "application/vnd.jupyter.widget-view+json": {
       "model_id": "7547651ac1184b70b07448c9cffabaf9",
       "version_major": 2,
       "version_minor": 0
      },
      "text/plain": [
       "Export report to file:   0%|          | 0/1 [00:00<?, ?it/s]"
      ]
     },
     "metadata": {},
     "output_type": "display_data"
    }
   ],
   "source": [
    "# Generate the profile report for the data frame and save the report to a file called output.html\n",
    "profile = ProfileReport(zillow_sales)\n",
    "profile.to_file(\"output.html\")"
   ]
  },
  {
   "cell_type": "code",
   "execution_count": 48,
   "metadata": {},
   "outputs": [],
   "source": [
    "# export the new dataframe to a csv\n",
    "\n",
    "zillow_sales.to_csv(\"zillow_sales_17102023.csv\", index = False)"
   ]
  },
  {
   "cell_type": "code",
   "execution_count": null,
   "metadata": {},
   "outputs": [],
   "source": []
  },
  {
   "cell_type": "code",
   "execution_count": null,
   "metadata": {},
   "outputs": [],
   "source": []
  },
  {
   "cell_type": "code",
   "execution_count": null,
   "metadata": {},
   "outputs": [],
   "source": []
  },
  {
   "cell_type": "code",
   "execution_count": null,
   "metadata": {},
   "outputs": [],
   "source": []
  }
 ],
 "metadata": {
  "kernelspec": {
   "display_name": "Python 3 (ipykernel)",
   "language": "python",
   "name": "python3"
  },
  "language_info": {
   "codemirror_mode": {
    "name": "ipython",
    "version": 3
   },
   "file_extension": ".py",
   "mimetype": "text/x-python",
   "name": "python",
   "nbconvert_exporter": "python",
   "pygments_lexer": "ipython3",
   "version": "3.11.5"
  }
 },
 "nbformat": 4,
 "nbformat_minor": 4
}
