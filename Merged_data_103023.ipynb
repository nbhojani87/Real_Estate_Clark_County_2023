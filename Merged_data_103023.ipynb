{
 "cells": [
  {
   "cell_type": "code",
   "execution_count": 2,
   "id": "b9ef8de2-233a-44aa-b85c-5778af3761c0",
   "metadata": {
    "tags": []
   },
   "outputs": [],
   "source": [
    "import pandas as pd"
   ]
  },
  {
   "cell_type": "code",
   "execution_count": 3,
   "id": "bf7dafd2-123b-400f-a207-e75a17ad69ac",
   "metadata": {
    "tags": []
   },
   "outputs": [],
   "source": [
    "# Read the 4 csv files into separate data frames\n",
    "\n",
    "zillow_rentals_file_path = \"/Users/mursil/workspace_neelam/Data_Projects_Personal/Real_Estate_Project/zillow/zillow_rental_data/zillow_rentals_17102023.csv\"\n",
    "zillow_sales_file_path = \"/Users/mursil/workspace_neelam/Data_Projects_Personal/Real_Estate_Project/zillow/zillow_sales_data/zillow_sales_17102023.csv\"\n",
    "school_performance_file_path = \"/Users/mursil/workspace_neelam/Data_Projects_Personal/Real_Estate_Project/School Performance Information/School_Perf_with_Zip.csv\"\n",
    "HH_income_file_path = \"/Users/mursil/workspace_neelam/Data_Projects_Personal/Real_Estate_Project/Household Income by Zip Code/HH_income.csv\"\n",
    "\n",
    "\n",
    "# Read the CSV files into DataFrames\n",
    "zillow_rentals = pd.read_csv(zillow_rentals_file_path)\n",
    "zillow_sales = pd.read_csv(zillow_sales_file_path)\n",
    "school_performance = pd.read_csv(school_performance_file_path)\n",
    "HH_income = pd.read_csv(HH_income_file_path)"
   ]
  },
  {
   "cell_type": "code",
   "execution_count": 4,
   "id": "99c62bc0-7f2a-480d-832f-4d8650c5b6fa",
   "metadata": {
    "tags": []
   },
   "outputs": [
    {
     "data": {
      "text/plain": [
       "Index(['Date Fetched', 'Street Address', 'City', 'State', 'Zip Code',\n",
       "       '# Bedrooms', '# Bathrooms', 'Living Area', 'Lot Area', 'Home Type',\n",
       "       'Home Status', 'Zestimate', 'Tax Assessed Value', 'Rent Zestimate',\n",
       "       'Price', 'URL'],\n",
       "      dtype='object')"
      ]
     },
     "execution_count": 4,
     "metadata": {},
     "output_type": "execute_result"
    }
   ],
   "source": [
    "# check column names and rename as needed\n",
    "zillow_rentals.columns"
   ]
  },
  {
   "cell_type": "code",
   "execution_count": 5,
   "id": "6c7d10d1-3d9a-4b7d-820b-8720b82c18d6",
   "metadata": {
    "tags": []
   },
   "outputs": [
    {
     "data": {
      "text/plain": [
       "Index(['Date Fetched', 'Street Address', 'City', 'State', 'Zip Code',\n",
       "       '# Bedrooms', '# Bathrooms', 'Living Area', 'Lot Area', 'Home Type',\n",
       "       'Home Status', 'Zestimate', 'Tax Assessed Value', 'Rent Zestimate',\n",
       "       'Price', 'URL'],\n",
       "      dtype='object')"
      ]
     },
     "execution_count": 5,
     "metadata": {},
     "output_type": "execute_result"
    }
   ],
   "source": [
    "zillow_sales.columns"
   ]
  },
  {
   "cell_type": "code",
   "execution_count": 6,
   "id": "32ca94c1-ea90-42b8-9436-9335b5e4aca5",
   "metadata": {
    "tags": []
   },
   "outputs": [],
   "source": [
    "# concatanate the zillow_rentals and zillow_sales dataframes\n",
    "zillow_concatanated = pd.concat([zillow_rentals, zillow_sales], axis =0)"
   ]
  },
  {
   "cell_type": "code",
   "execution_count": 7,
   "id": "7259a8a4-7b56-47c4-8569-ef9a284de891",
   "metadata": {
    "tags": []
   },
   "outputs": [
    {
     "data": {
      "text/html": [
       "<div>\n",
       "<style scoped>\n",
       "    .dataframe tbody tr th:only-of-type {\n",
       "        vertical-align: middle;\n",
       "    }\n",
       "\n",
       "    .dataframe tbody tr th {\n",
       "        vertical-align: top;\n",
       "    }\n",
       "\n",
       "    .dataframe thead th {\n",
       "        text-align: right;\n",
       "    }\n",
       "</style>\n",
       "<table border=\"1\" class=\"dataframe\">\n",
       "  <thead>\n",
       "    <tr style=\"text-align: right;\">\n",
       "      <th></th>\n",
       "      <th>Date Fetched</th>\n",
       "      <th>Street Address</th>\n",
       "      <th>City</th>\n",
       "      <th>State</th>\n",
       "      <th>Zip Code</th>\n",
       "      <th># Bedrooms</th>\n",
       "      <th># Bathrooms</th>\n",
       "      <th>Living Area</th>\n",
       "      <th>Lot Area</th>\n",
       "      <th>Home Type</th>\n",
       "      <th>Home Status</th>\n",
       "      <th>Zestimate</th>\n",
       "      <th>Tax Assessed Value</th>\n",
       "      <th>Rent Zestimate</th>\n",
       "      <th>Price</th>\n",
       "      <th>URL</th>\n",
       "    </tr>\n",
       "  </thead>\n",
       "  <tbody>\n",
       "    <tr>\n",
       "      <th>0</th>\n",
       "      <td>2023-10-13</td>\n",
       "      <td>128 Charmante Tulip Ln</td>\n",
       "      <td>Henderson</td>\n",
       "      <td>NV</td>\n",
       "      <td>89015</td>\n",
       "      <td>3</td>\n",
       "      <td>2.5</td>\n",
       "      <td>1808.0</td>\n",
       "      <td>NaN</td>\n",
       "      <td>SINGLE_FAMILY</td>\n",
       "      <td>FOR_RENT</td>\n",
       "      <td>NaN</td>\n",
       "      <td>NaN</td>\n",
       "      <td>NaN</td>\n",
       "      <td>2225.0</td>\n",
       "      <td>https://www.zillow.com/homedetails/128-Charman...</td>\n",
       "    </tr>\n",
       "    <tr>\n",
       "      <th>1</th>\n",
       "      <td>2023-10-13</td>\n",
       "      <td>126 Charmante Tulip Ln</td>\n",
       "      <td>Henderson</td>\n",
       "      <td>NV</td>\n",
       "      <td>89015</td>\n",
       "      <td>3</td>\n",
       "      <td>2.5</td>\n",
       "      <td>1808.0</td>\n",
       "      <td>NaN</td>\n",
       "      <td>SINGLE_FAMILY</td>\n",
       "      <td>FOR_RENT</td>\n",
       "      <td>NaN</td>\n",
       "      <td>NaN</td>\n",
       "      <td>NaN</td>\n",
       "      <td>2225.0</td>\n",
       "      <td>https://www.zillow.com/homedetails/126-Charman...</td>\n",
       "    </tr>\n",
       "    <tr>\n",
       "      <th>2</th>\n",
       "      <td>2023-10-13</td>\n",
       "      <td>11713 Villa Malaparte Ave #0</td>\n",
       "      <td>Las Vegas</td>\n",
       "      <td>NV</td>\n",
       "      <td>89138</td>\n",
       "      <td>5</td>\n",
       "      <td>3.0</td>\n",
       "      <td>2532.0</td>\n",
       "      <td>NaN</td>\n",
       "      <td>SINGLE_FAMILY</td>\n",
       "      <td>FOR_RENT</td>\n",
       "      <td>584800.0</td>\n",
       "      <td>NaN</td>\n",
       "      <td>3633.0</td>\n",
       "      <td>2500.0</td>\n",
       "      <td>https://www.zillow.com/homedetails/11713-Villa...</td>\n",
       "    </tr>\n",
       "    <tr>\n",
       "      <th>3</th>\n",
       "      <td>2023-10-13</td>\n",
       "      <td>7324 Misty Glow Ct</td>\n",
       "      <td>Las Vegas</td>\n",
       "      <td>NV</td>\n",
       "      <td>89131</td>\n",
       "      <td>3</td>\n",
       "      <td>2.0</td>\n",
       "      <td>1416.0</td>\n",
       "      <td>NaN</td>\n",
       "      <td>SINGLE_FAMILY</td>\n",
       "      <td>FOR_RENT</td>\n",
       "      <td>379400.0</td>\n",
       "      <td>196011.0</td>\n",
       "      <td>1875.0</td>\n",
       "      <td>1950.0</td>\n",
       "      <td>https://www.zillow.com/homedetails/7324-Misty-...</td>\n",
       "    </tr>\n",
       "    <tr>\n",
       "      <th>4</th>\n",
       "      <td>2023-10-13</td>\n",
       "      <td>8436 Bay Crest Dr</td>\n",
       "      <td>Las Vegas</td>\n",
       "      <td>NV</td>\n",
       "      <td>89128</td>\n",
       "      <td>4</td>\n",
       "      <td>3.5</td>\n",
       "      <td>2422.0</td>\n",
       "      <td>NaN</td>\n",
       "      <td>SINGLE_FAMILY</td>\n",
       "      <td>FOR_RENT</td>\n",
       "      <td>524500.0</td>\n",
       "      <td>275971.0</td>\n",
       "      <td>2595.0</td>\n",
       "      <td>2800.0</td>\n",
       "      <td>https://www.zillow.com/homedetails/8436-Bay-Cr...</td>\n",
       "    </tr>\n",
       "  </tbody>\n",
       "</table>\n",
       "</div>"
      ],
      "text/plain": [
       "  Date Fetched                Street Address        City State  Zip Code  \\\n",
       "0   2023-10-13        128 Charmante Tulip Ln   Henderson    NV     89015   \n",
       "1   2023-10-13        126 Charmante Tulip Ln   Henderson    NV     89015   \n",
       "2   2023-10-13  11713 Villa Malaparte Ave #0   Las Vegas    NV     89138   \n",
       "3   2023-10-13            7324 Misty Glow Ct   Las Vegas    NV     89131   \n",
       "4   2023-10-13             8436 Bay Crest Dr   Las Vegas    NV     89128   \n",
       "\n",
       "   # Bedrooms  # Bathrooms  Living Area  Lot Area       Home Type Home Status  \\\n",
       "0           3          2.5       1808.0       NaN   SINGLE_FAMILY    FOR_RENT   \n",
       "1           3          2.5       1808.0       NaN   SINGLE_FAMILY    FOR_RENT   \n",
       "2           5          3.0       2532.0       NaN   SINGLE_FAMILY    FOR_RENT   \n",
       "3           3          2.0       1416.0       NaN   SINGLE_FAMILY    FOR_RENT   \n",
       "4           4          3.5       2422.0       NaN   SINGLE_FAMILY    FOR_RENT   \n",
       "\n",
       "   Zestimate  Tax Assessed Value  Rent Zestimate   Price  \\\n",
       "0        NaN                 NaN             NaN  2225.0   \n",
       "1        NaN                 NaN             NaN  2225.0   \n",
       "2   584800.0                 NaN          3633.0  2500.0   \n",
       "3   379400.0            196011.0          1875.0  1950.0   \n",
       "4   524500.0            275971.0          2595.0  2800.0   \n",
       "\n",
       "                                                 URL  \n",
       "0  https://www.zillow.com/homedetails/128-Charman...  \n",
       "1  https://www.zillow.com/homedetails/126-Charman...  \n",
       "2  https://www.zillow.com/homedetails/11713-Villa...  \n",
       "3  https://www.zillow.com/homedetails/7324-Misty-...  \n",
       "4  https://www.zillow.com/homedetails/8436-Bay-Cr...  "
      ]
     },
     "execution_count": 7,
     "metadata": {},
     "output_type": "execute_result"
    }
   ],
   "source": [
    "zillow_concatanated.head()"
   ]
  },
  {
   "cell_type": "code",
   "execution_count": 8,
   "id": "d5a616e6-078e-4531-974f-47fbd1b55e7e",
   "metadata": {
    "tags": []
   },
   "outputs": [
    {
     "name": "stdout",
     "output_type": "stream",
     "text": [
      "City\n",
      " Boulder                  1\n",
      " Boulder City            40\n",
      " Bunkerville              4\n",
      " Clark County             3\n",
      " Enterprise               9\n",
      " Henderson             1384\n",
      " Hyden                    1\n",
      " Indian Springs           3\n",
      " Las Vegas             4456\n",
      " Las vegas                7\n",
      " Laughlin                55\n",
      " Logandale                6\n",
      " Mesquite                82\n",
      " Moapa Valley             5\n",
      " Mount Charleston        15\n",
      " North Las Vegas        616\n",
      " North las vegas          1\n",
      " Overton                  5\n",
      " Paradise                19\n",
      " Paradise Town           10\n",
      " Spring Valley           56\n",
      " Spring valley            7\n",
      " Summerlin               46\n",
      " Sunrise Manor           16\n",
      " Sunrise Manor Town       8\n",
      " Sunrise manor town       1\n",
      " Whitney                 14\n",
      " Winchester               7\n",
      "Name: count, dtype: int64\n"
     ]
    }
   ],
   "source": [
    "unique_city_counts = zillow_concatanated['City'].value_counts().sort_index()\n",
    "print(unique_city_counts)"
   ]
  },
  {
   "cell_type": "code",
   "execution_count": 9,
   "id": "05d9fab9-a94f-456a-872d-8f84f5da295c",
   "metadata": {
    "tags": []
   },
   "outputs": [],
   "source": [
    "# remove leading white spaces from city column\n",
    "zillow_concatanated['City'] = zillow_concatanated['City'].astype(str).str.lstrip().str.strip()"
   ]
  },
  {
   "cell_type": "code",
   "execution_count": 10,
   "id": "fcead3c5-6e60-49be-83a7-e5be102040c3",
   "metadata": {
    "tags": []
   },
   "outputs": [],
   "source": [
    "# Various ways that Cities are entered into this data -- need to name them more uniformly.\n",
    "# Boulder, Boulder City = Boulder City\n",
    "# Las Vegas, Las vegas = Las Vegas\n",
    "# North Las Vegas, North las vegas = North Las Vegas\n",
    "# Paradise, Paradise Town = Paradise Town\n",
    "# Sunrise Manor, Sunrise Manor Town, Sunrise manor town = Sunrise Manor\n",
    "# Spring Valley, Spring valley = Spring Valley\n",
    "\n",
    "# Standardize city names\n",
    "# Dictionary mapping non-standard city names to standardized names\n",
    "city_mapping = {\n",
    "    'Boulder': 'Boulder City',\n",
    "    'Las vegas': 'Las Vegas',\n",
    "    'North las vegas': 'North Las Vegas',\n",
    "    'Paradise': 'Paradise Town',\n",
    "    'Sunrise Manor Town': 'Sunrise Manor',\n",
    "    'Sunrise manor town': 'Sunrise Manor',\n",
    "    'Spring valley': 'Spring Valley'\n",
    "}\n",
    "\n",
    "# Replace non-standard city names with standardized names\n",
    "zillow_concatanated['City'] = zillow_concatanated['City'].replace(city_mapping)"
   ]
  },
  {
   "cell_type": "code",
   "execution_count": 11,
   "id": "3db6fd27-1e70-42b2-8016-88240c8e2cd2",
   "metadata": {
    "tags": []
   },
   "outputs": [
    {
     "name": "stdout",
     "output_type": "stream",
     "text": [
      "City\n",
      "Boulder City          41\n",
      "Bunkerville            4\n",
      "Clark County           3\n",
      "Enterprise             9\n",
      "Henderson           1384\n",
      "Hyden                  1\n",
      "Indian Springs         3\n",
      "Las Vegas           4463\n",
      "Laughlin              55\n",
      "Logandale              6\n",
      "Mesquite              82\n",
      "Moapa Valley           5\n",
      "Mount Charleston      15\n",
      "North Las Vegas      617\n",
      "Overton                5\n",
      "Paradise Town         29\n",
      "Spring Valley         63\n",
      "Summerlin             46\n",
      "Sunrise Manor         25\n",
      "Whitney               14\n",
      "Winchester             7\n",
      "Name: count, dtype: int64\n"
     ]
    }
   ],
   "source": [
    "unique_city_counts = zillow_concatanated['City'].value_counts().sort_index()\n",
    "print(unique_city_counts)"
   ]
  },
  {
   "cell_type": "code",
   "execution_count": 12,
   "id": "812ec501-0df9-4a10-b436-ed5ed62a8c93",
   "metadata": {
    "tags": []
   },
   "outputs": [
    {
     "data": {
      "text/plain": [
       "Index(['School Code', 'School Name', 'Mathematics - % Proficient',\n",
       "       'ELA - % Proficient', 'Physical Zip'],\n",
       "      dtype='object')"
      ]
     },
     "execution_count": 12,
     "metadata": {},
     "output_type": "execute_result"
    }
   ],
   "source": [
    "school_performance.columns"
   ]
  },
  {
   "cell_type": "code",
   "execution_count": 13,
   "id": "008db975-5c8e-4bb3-8b17-c49914b9381a",
   "metadata": {
    "tags": []
   },
   "outputs": [
    {
     "data": {
      "text/plain": [
       "Index(['Date Fetched', 'Street Address', 'City', 'State', 'Zip Code',\n",
       "       '# Bedrooms', '# Bathrooms', 'Living Area', 'Lot Area', 'Home Type',\n",
       "       'Home Status', 'Zestimate', 'Tax Assessed Value', 'Rent Zestimate',\n",
       "       'Price', 'URL'],\n",
       "      dtype='object')"
      ]
     },
     "execution_count": 13,
     "metadata": {},
     "output_type": "execute_result"
    }
   ],
   "source": [
    "zillow_concatanated.columns"
   ]
  },
  {
   "cell_type": "code",
   "execution_count": 14,
   "id": "00ad8ffa-8100-4fc3-959d-8b9d8d7a2313",
   "metadata": {
    "tags": []
   },
   "outputs": [
    {
     "data": {
      "text/plain": [
       "Index(['Zip_Code', 'Median_Income', 'Median_Income_Margin_of_Error',\n",
       "       'Mean_Income', 'Mean_Income_Margin_of_Error'],\n",
       "      dtype='object')"
      ]
     },
     "execution_count": 14,
     "metadata": {},
     "output_type": "execute_result"
    }
   ],
   "source": [
    "HH_income.columns"
   ]
  },
  {
   "cell_type": "code",
   "execution_count": 15,
   "id": "7fa3c2c0-40f0-4549-b4e1-43650028cdf5",
   "metadata": {
    "tags": []
   },
   "outputs": [],
   "source": [
    "# Rename the columns to Zip_Code so that the data frames can be joined on this common column\n",
    "\n",
    "zillow_concatanated.rename(columns={'Zip Code' : 'Zip_Code'}, inplace = True)\n",
    "school_performance.rename(columns={'Physical Zip' : 'Zip_Code'}, inplace = True)"
   ]
  },
  {
   "cell_type": "code",
   "execution_count": 16,
   "id": "c1d71e80-e775-4cf7-8572-a3650b223eb6",
   "metadata": {
    "tags": []
   },
   "outputs": [],
   "source": [
    "merged_data = pd.merge(zillow_concatanated, school_performance, on ='Zip_Code', how='outer')"
   ]
  },
  {
   "cell_type": "code",
   "execution_count": 17,
   "id": "00861ccf-ba18-47f5-93fb-66efc36acf60",
   "metadata": {
    "tags": []
   },
   "outputs": [],
   "source": [
    "merged_data = pd.merge(merged_data, HH_income, on = 'Zip_Code', how='outer')"
   ]
  },
  {
   "cell_type": "code",
   "execution_count": 18,
   "id": "dc4deb83-4540-4084-916a-3bd3d36f8a0f",
   "metadata": {
    "tags": []
   },
   "outputs": [
    {
     "data": {
      "text/plain": [
       "Index(['Date Fetched', 'Street Address', 'City', 'State', 'Zip_Code',\n",
       "       '# Bedrooms', '# Bathrooms', 'Living Area', 'Lot Area', 'Home Type',\n",
       "       'Home Status', 'Zestimate', 'Tax Assessed Value', 'Rent Zestimate',\n",
       "       'Price', 'URL', 'School Code', 'School Name',\n",
       "       'Mathematics - % Proficient', 'ELA - % Proficient', 'Median_Income',\n",
       "       'Median_Income_Margin_of_Error', 'Mean_Income',\n",
       "       'Mean_Income_Margin_of_Error'],\n",
       "      dtype='object')"
      ]
     },
     "execution_count": 18,
     "metadata": {},
     "output_type": "execute_result"
    }
   ],
   "source": [
    "merged_data.columns"
   ]
  },
  {
   "cell_type": "code",
   "execution_count": 19,
   "id": "aaa161eb-f751-4bde-a6ee-249890843e63",
   "metadata": {
    "tags": []
   },
   "outputs": [
    {
     "data": {
      "text/html": [
       "<div>\n",
       "<style scoped>\n",
       "    .dataframe tbody tr th:only-of-type {\n",
       "        vertical-align: middle;\n",
       "    }\n",
       "\n",
       "    .dataframe tbody tr th {\n",
       "        vertical-align: top;\n",
       "    }\n",
       "\n",
       "    .dataframe thead th {\n",
       "        text-align: right;\n",
       "    }\n",
       "</style>\n",
       "<table border=\"1\" class=\"dataframe\">\n",
       "  <thead>\n",
       "    <tr style=\"text-align: right;\">\n",
       "      <th></th>\n",
       "      <th>Date Fetched</th>\n",
       "      <th>Street Address</th>\n",
       "      <th>City</th>\n",
       "      <th>State</th>\n",
       "      <th>Zip_Code</th>\n",
       "      <th># Bedrooms</th>\n",
       "      <th># Bathrooms</th>\n",
       "      <th>Living Area</th>\n",
       "      <th>Lot Area</th>\n",
       "      <th>Home Type</th>\n",
       "      <th>...</th>\n",
       "      <th>Price</th>\n",
       "      <th>URL</th>\n",
       "      <th>School Code</th>\n",
       "      <th>School Name</th>\n",
       "      <th>Mathematics - % Proficient</th>\n",
       "      <th>ELA - % Proficient</th>\n",
       "      <th>Median_Income</th>\n",
       "      <th>Median_Income_Margin_of_Error</th>\n",
       "      <th>Mean_Income</th>\n",
       "      <th>Mean_Income_Margin_of_Error</th>\n",
       "    </tr>\n",
       "  </thead>\n",
       "  <tbody>\n",
       "    <tr>\n",
       "      <th>0</th>\n",
       "      <td>2023-10-13</td>\n",
       "      <td>128 Charmante Tulip Ln</td>\n",
       "      <td>Henderson</td>\n",
       "      <td>NV</td>\n",
       "      <td>89015</td>\n",
       "      <td>3.0</td>\n",
       "      <td>2.5</td>\n",
       "      <td>1808.0</td>\n",
       "      <td>NaN</td>\n",
       "      <td>SINGLE_FAMILY</td>\n",
       "      <td>...</td>\n",
       "      <td>2225.0</td>\n",
       "      <td>https://www.zillow.com/homedetails/128-Charman...</td>\n",
       "      <td>2319.0</td>\n",
       "      <td>Brown, B Mahlon JHS</td>\n",
       "      <td>20.0</td>\n",
       "      <td>39.1</td>\n",
       "      <td>60301</td>\n",
       "      <td>3792</td>\n",
       "      <td>79605</td>\n",
       "      <td>3748</td>\n",
       "    </tr>\n",
       "    <tr>\n",
       "      <th>1</th>\n",
       "      <td>2023-10-13</td>\n",
       "      <td>128 Charmante Tulip Ln</td>\n",
       "      <td>Henderson</td>\n",
       "      <td>NV</td>\n",
       "      <td>89015</td>\n",
       "      <td>3.0</td>\n",
       "      <td>2.5</td>\n",
       "      <td>1808.0</td>\n",
       "      <td>NaN</td>\n",
       "      <td>SINGLE_FAMILY</td>\n",
       "      <td>...</td>\n",
       "      <td>2225.0</td>\n",
       "      <td>https://www.zillow.com/homedetails/128-Charman...</td>\n",
       "      <td>2251.0</td>\n",
       "      <td>Sewell, C T ES</td>\n",
       "      <td>18.8</td>\n",
       "      <td>28.6</td>\n",
       "      <td>60301</td>\n",
       "      <td>3792</td>\n",
       "      <td>79605</td>\n",
       "      <td>3748</td>\n",
       "    </tr>\n",
       "    <tr>\n",
       "      <th>2</th>\n",
       "      <td>2023-10-13</td>\n",
       "      <td>128 Charmante Tulip Ln</td>\n",
       "      <td>Henderson</td>\n",
       "      <td>NV</td>\n",
       "      <td>89015</td>\n",
       "      <td>3.0</td>\n",
       "      <td>2.5</td>\n",
       "      <td>1808.0</td>\n",
       "      <td>NaN</td>\n",
       "      <td>SINGLE_FAMILY</td>\n",
       "      <td>...</td>\n",
       "      <td>2225.0</td>\n",
       "      <td>https://www.zillow.com/homedetails/128-Charman...</td>\n",
       "      <td>2297.0</td>\n",
       "      <td>Hinman, Edna F ES</td>\n",
       "      <td>13.1</td>\n",
       "      <td>25.7</td>\n",
       "      <td>60301</td>\n",
       "      <td>3792</td>\n",
       "      <td>79605</td>\n",
       "      <td>3748</td>\n",
       "    </tr>\n",
       "    <tr>\n",
       "      <th>3</th>\n",
       "      <td>2023-10-13</td>\n",
       "      <td>128 Charmante Tulip Ln</td>\n",
       "      <td>Henderson</td>\n",
       "      <td>NV</td>\n",
       "      <td>89015</td>\n",
       "      <td>3.0</td>\n",
       "      <td>2.5</td>\n",
       "      <td>1808.0</td>\n",
       "      <td>NaN</td>\n",
       "      <td>SINGLE_FAMILY</td>\n",
       "      <td>...</td>\n",
       "      <td>2225.0</td>\n",
       "      <td>https://www.zillow.com/homedetails/128-Charman...</td>\n",
       "      <td>2313.0</td>\n",
       "      <td>Burkholder, Lyal MS</td>\n",
       "      <td>17.9</td>\n",
       "      <td>31.0</td>\n",
       "      <td>60301</td>\n",
       "      <td>3792</td>\n",
       "      <td>79605</td>\n",
       "      <td>3748</td>\n",
       "    </tr>\n",
       "    <tr>\n",
       "      <th>4</th>\n",
       "      <td>2023-10-13</td>\n",
       "      <td>128 Charmante Tulip Ln</td>\n",
       "      <td>Henderson</td>\n",
       "      <td>NV</td>\n",
       "      <td>89015</td>\n",
       "      <td>3.0</td>\n",
       "      <td>2.5</td>\n",
       "      <td>1808.0</td>\n",
       "      <td>NaN</td>\n",
       "      <td>SINGLE_FAMILY</td>\n",
       "      <td>...</td>\n",
       "      <td>2225.0</td>\n",
       "      <td>https://www.zillow.com/homedetails/128-Charman...</td>\n",
       "      <td>2249.0</td>\n",
       "      <td>McCaw, Gordon ES</td>\n",
       "      <td>66.5</td>\n",
       "      <td>71.3</td>\n",
       "      <td>60301</td>\n",
       "      <td>3792</td>\n",
       "      <td>79605</td>\n",
       "      <td>3748</td>\n",
       "    </tr>\n",
       "  </tbody>\n",
       "</table>\n",
       "<p>5 rows × 24 columns</p>\n",
       "</div>"
      ],
      "text/plain": [
       "  Date Fetched          Street Address       City State  Zip_Code  # Bedrooms  \\\n",
       "0   2023-10-13  128 Charmante Tulip Ln  Henderson    NV     89015         3.0   \n",
       "1   2023-10-13  128 Charmante Tulip Ln  Henderson    NV     89015         3.0   \n",
       "2   2023-10-13  128 Charmante Tulip Ln  Henderson    NV     89015         3.0   \n",
       "3   2023-10-13  128 Charmante Tulip Ln  Henderson    NV     89015         3.0   \n",
       "4   2023-10-13  128 Charmante Tulip Ln  Henderson    NV     89015         3.0   \n",
       "\n",
       "   # Bathrooms  Living Area  Lot Area       Home Type  ...   Price  \\\n",
       "0          2.5       1808.0       NaN   SINGLE_FAMILY  ...  2225.0   \n",
       "1          2.5       1808.0       NaN   SINGLE_FAMILY  ...  2225.0   \n",
       "2          2.5       1808.0       NaN   SINGLE_FAMILY  ...  2225.0   \n",
       "3          2.5       1808.0       NaN   SINGLE_FAMILY  ...  2225.0   \n",
       "4          2.5       1808.0       NaN   SINGLE_FAMILY  ...  2225.0   \n",
       "\n",
       "                                                 URL  School Code  \\\n",
       "0  https://www.zillow.com/homedetails/128-Charman...       2319.0   \n",
       "1  https://www.zillow.com/homedetails/128-Charman...       2251.0   \n",
       "2  https://www.zillow.com/homedetails/128-Charman...       2297.0   \n",
       "3  https://www.zillow.com/homedetails/128-Charman...       2313.0   \n",
       "4  https://www.zillow.com/homedetails/128-Charman...       2249.0   \n",
       "\n",
       "           School Name  Mathematics - % Proficient ELA - % Proficient  \\\n",
       "0  Brown, B Mahlon JHS                        20.0               39.1   \n",
       "1       Sewell, C T ES                        18.8               28.6   \n",
       "2    Hinman, Edna F ES                        13.1               25.7   \n",
       "3  Burkholder, Lyal MS                        17.9               31.0   \n",
       "4     McCaw, Gordon ES                        66.5               71.3   \n",
       "\n",
       "   Median_Income Median_Income_Margin_of_Error Mean_Income  \\\n",
       "0          60301                          3792       79605   \n",
       "1          60301                          3792       79605   \n",
       "2          60301                          3792       79605   \n",
       "3          60301                          3792       79605   \n",
       "4          60301                          3792       79605   \n",
       "\n",
       "  Mean_Income_Margin_of_Error  \n",
       "0                        3748  \n",
       "1                        3748  \n",
       "2                        3748  \n",
       "3                        3748  \n",
       "4                        3748  \n",
       "\n",
       "[5 rows x 24 columns]"
      ]
     },
     "execution_count": 19,
     "metadata": {},
     "output_type": "execute_result"
    }
   ],
   "source": [
    "merged_data.head()"
   ]
  },
  {
   "cell_type": "code",
   "execution_count": 20,
   "id": "1cfc3f2c-4a39-45f0-8b39-04ed0e896e11",
   "metadata": {
    "tags": []
   },
   "outputs": [
    {
     "name": "stdout",
     "output_type": "stream",
     "text": [
      "State\n",
      " NV    40316\n",
      " KY        1\n",
      "Name: count, dtype: int64\n"
     ]
    }
   ],
   "source": [
    "unique_state_counts = merged_data['State'].value_counts()\n",
    "print(unique_state_counts)"
   ]
  },
  {
   "cell_type": "code",
   "execution_count": 21,
   "id": "b495afcd-0263-4b71-8217-e8793b4a6ccd",
   "metadata": {
    "tags": []
   },
   "outputs": [
    {
     "name": "stdout",
     "output_type": "stream",
     "text": [
      "[' FOR_RENT' ' FOR_SALE' nan]\n"
     ]
    }
   ],
   "source": [
    "unique_Home_Status = merged_data['Home Status'].unique()\n",
    "print(unique_Home_Status)"
   ]
  },
  {
   "cell_type": "code",
   "execution_count": 22,
   "id": "9e18a908-e45c-4ed3-91fb-572d11d4b823",
   "metadata": {
    "tags": []
   },
   "outputs": [],
   "source": [
    "# remove leading space from ' FOR_RENT' in 'Home Status' column\n",
    "merged_data['Home Status'] = merged_data['Home Status'].astype(str).str.lstrip().str.strip()"
   ]
  },
  {
   "cell_type": "code",
   "execution_count": 23,
   "id": "543304c0-843a-452f-9ac3-e0b4649459cb",
   "metadata": {
    "tags": []
   },
   "outputs": [
    {
     "name": "stdout",
     "output_type": "stream",
     "text": [
      "[' NV' ' KY' nan]\n"
     ]
    }
   ],
   "source": [
    "unique_State = merged_data['State'].unique()\n",
    "print(unique_State)"
   ]
  },
  {
   "cell_type": "code",
   "execution_count": 24,
   "id": "fa0b0651-b889-43aa-97e9-572aa0609763",
   "metadata": {
    "tags": []
   },
   "outputs": [],
   "source": [
    "# drop row with State = KY\n",
    "merged_data = merged_data[merged_data['State'] != ' KY']"
   ]
  },
  {
   "cell_type": "code",
   "execution_count": 25,
   "id": "18646a20-9460-4bb4-9e82-916fad724e27",
   "metadata": {
    "tags": []
   },
   "outputs": [],
   "source": [
    "# remove leading space from ' NV' in 'State' column\n",
    "merged_data['State'] = merged_data['State'].astype(str).str.lstrip().str.strip()"
   ]
  },
  {
   "cell_type": "code",
   "execution_count": 26,
   "id": "a9bb32c6-0479-412c-b5a4-e365a45ea849",
   "metadata": {
    "tags": []
   },
   "outputs": [],
   "source": [
    "merged_data['Zip_Code'] = merged_data['Zip_Code'].astype(str)"
   ]
  },
  {
   "cell_type": "code",
   "execution_count": 27,
   "id": "b2a5a054-526c-4291-b4f9-c92c4d736860",
   "metadata": {},
   "outputs": [
    {
     "name": "stdout",
     "output_type": "stream",
     "text": [
      "['89015' '89138' '89131' '89128' '89032' '89141' '89183' '89123' '89178'\n",
      " '89052' '89148' '89139' '89108' '89147' '89081' '89031' '89034' '89102'\n",
      " '89084' '89012' '89122' '89135' '89118' '89011' '89149' '89121' '89002'\n",
      " '89044' '89074' '89145' '89129' '89115' '89113' '89166' '89179' '89014'\n",
      " '89103' '89156' '89146' '89117' '89134' '89030' '89130' '89086' '89104'\n",
      " '89101' '89107' '89144' '89119' '89109' '89142' '89120' '89106' '89169'\n",
      " '89143' '89021' '89110' '89029' '89027' '89085' '89158' '89005' '89124'\n",
      " '89040' '89007' '89161' '89018' '89025' '89004' '89019' '89046' '84034'\n",
      " '89001' '89003' '89008' '89010' '89013' '89017' '89020' '89022' '89026'\n",
      " '89039' '89042' '89043' '89045' '89047' '89048' '89049' '89054' '89060'\n",
      " '89061' '89070' '89191' '89301' '89310' '89311' '89314' '89315' '89316'\n",
      " '89317' '89318' '89319' '89402' '89403' '89404' '89405' '89406' '89408'\n",
      " '89409' '89410' '89411' '89412' '89413' '89414' '89415' '89418' '89419'\n",
      " '89420' '89421' '89422' '89423' '89424' '89425' '89426' '89427' '89428'\n",
      " '89429' '89430' '89431' '89433' '89434' '89436' '89437' '89438' '89439'\n",
      " '89440' '89441' '89442' '89444' '89445' '89446' '89447' '89448' '89449'\n",
      " '89450' '89451' '89460' '89496' '89501' '89502' '89503' '89506' '89508'\n",
      " '89509' '89510' '89511' '89512' '89519' '89521' '89523' '89557' '89701'\n",
      " '89703' '89704' '89705' '89706' '89801' '89815' '89820' '89821' '89822'\n",
      " '89823' '89825' '89826' '89828' '89830' '89831' '89832' '89833' '89834'\n",
      " '89835' '89883']\n"
     ]
    }
   ],
   "source": [
    "unique_Zip_Code = merged_data['Zip_Code'].unique()\n",
    "print(unique_Zip_Code)"
   ]
  },
  {
   "cell_type": "code",
   "execution_count": 28,
   "id": "8425865a-1117-450c-8444-284c075ffe09",
   "metadata": {
    "tags": []
   },
   "outputs": [
    {
     "name": "stdout",
     "output_type": "stream",
     "text": [
      "<class 'pandas.core.frame.DataFrame'>\n",
      "Index: 40433 entries, 0 to 40433\n",
      "Data columns (total 24 columns):\n",
      " #   Column                         Non-Null Count  Dtype  \n",
      "---  ------                         --------------  -----  \n",
      " 0   Date Fetched                   40316 non-null  object \n",
      " 1   Street Address                 40316 non-null  object \n",
      " 2   City                           40316 non-null  object \n",
      " 3   State                          40433 non-null  object \n",
      " 4   Zip_Code                       40433 non-null  object \n",
      " 5   # Bedrooms                     40316 non-null  float64\n",
      " 6   # Bathrooms                    39843 non-null  float64\n",
      " 7   Living Area                    40073 non-null  float64\n",
      " 8   Lot Area                       15516 non-null  float64\n",
      " 9   Home Type                      40316 non-null  object \n",
      " 10  Home Status                    40433 non-null  object \n",
      " 11  Zestimate                      33358 non-null  float64\n",
      " 12  Tax Assessed Value             35063 non-null  float64\n",
      " 13  Rent Zestimate                 36141 non-null  float64\n",
      " 14  Price                          40316 non-null  float64\n",
      " 15  URL                            40316 non-null  object \n",
      " 16  School Code                    40097 non-null  float64\n",
      " 17  School Name                    40097 non-null  object \n",
      " 18  Mathematics - % Proficient     40097 non-null  object \n",
      " 19  ELA - % Proficient             40097 non-null  object \n",
      " 20  Median_Income                  40433 non-null  object \n",
      " 21  Median_Income_Margin_of_Error  40433 non-null  object \n",
      " 22  Mean_Income                    40433 non-null  object \n",
      " 23  Mean_Income_Margin_of_Error    40433 non-null  object \n",
      "dtypes: float64(9), object(15)\n",
      "memory usage: 7.7+ MB\n"
     ]
    }
   ],
   "source": [
    "merged_data.info()"
   ]
  },
  {
   "cell_type": "code",
   "execution_count": 31,
   "id": "63d4fea1-01c4-4360-94bd-59aac2f0392f",
   "metadata": {
    "tags": []
   },
   "outputs": [
    {
     "name": "stdout",
     "output_type": "stream",
     "text": [
      "['SINGLE_FAMILY' 'TOWNHOUSE' 'CONDO' 'MULTI_FAMILY' 'MANUFACTURED' nan]\n"
     ]
    }
   ],
   "source": [
    "unique_Home_type = merged_data['Home Type'].unique()\n",
    "print(unique_Home_type)"
   ]
  },
  {
   "cell_type": "code",
   "execution_count": 30,
   "id": "8722d92c-d6da-4e0c-8356-2b2f51147efe",
   "metadata": {
    "tags": []
   },
   "outputs": [
    {
     "data": {
      "text/html": [
       "<div>\n",
       "<style scoped>\n",
       "    .dataframe tbody tr th:only-of-type {\n",
       "        vertical-align: middle;\n",
       "    }\n",
       "\n",
       "    .dataframe tbody tr th {\n",
       "        vertical-align: top;\n",
       "    }\n",
       "\n",
       "    .dataframe thead th {\n",
       "        text-align: right;\n",
       "    }\n",
       "</style>\n",
       "<table border=\"1\" class=\"dataframe\">\n",
       "  <thead>\n",
       "    <tr style=\"text-align: right;\">\n",
       "      <th></th>\n",
       "      <th>Date Fetched</th>\n",
       "      <th>Street Address</th>\n",
       "      <th>City</th>\n",
       "      <th>State</th>\n",
       "      <th>Zip_Code</th>\n",
       "      <th># Bedrooms</th>\n",
       "      <th># Bathrooms</th>\n",
       "      <th>Living Area</th>\n",
       "      <th>Lot Area</th>\n",
       "      <th>Home Type</th>\n",
       "      <th>...</th>\n",
       "      <th>Price</th>\n",
       "      <th>URL</th>\n",
       "      <th>School Code</th>\n",
       "      <th>School Name</th>\n",
       "      <th>Mathematics - % Proficient</th>\n",
       "      <th>ELA - % Proficient</th>\n",
       "      <th>Median_Income</th>\n",
       "      <th>Median_Income_Margin_of_Error</th>\n",
       "      <th>Mean_Income</th>\n",
       "      <th>Mean_Income_Margin_of_Error</th>\n",
       "    </tr>\n",
       "  </thead>\n",
       "  <tbody>\n",
       "    <tr>\n",
       "      <th>0</th>\n",
       "      <td>2023-10-13</td>\n",
       "      <td>128 Charmante Tulip Ln</td>\n",
       "      <td>Henderson</td>\n",
       "      <td>NV</td>\n",
       "      <td>89015</td>\n",
       "      <td>3.0</td>\n",
       "      <td>2.5</td>\n",
       "      <td>1808.0</td>\n",
       "      <td>NaN</td>\n",
       "      <td>SINGLE_FAMILY</td>\n",
       "      <td>...</td>\n",
       "      <td>2225.0</td>\n",
       "      <td>https://www.zillow.com/homedetails/128-Charman...</td>\n",
       "      <td>2319.0</td>\n",
       "      <td>Brown, B Mahlon JHS</td>\n",
       "      <td>20.0</td>\n",
       "      <td>39.1</td>\n",
       "      <td>60301</td>\n",
       "      <td>3792</td>\n",
       "      <td>79605</td>\n",
       "      <td>3748</td>\n",
       "    </tr>\n",
       "    <tr>\n",
       "      <th>1</th>\n",
       "      <td>2023-10-13</td>\n",
       "      <td>128 Charmante Tulip Ln</td>\n",
       "      <td>Henderson</td>\n",
       "      <td>NV</td>\n",
       "      <td>89015</td>\n",
       "      <td>3.0</td>\n",
       "      <td>2.5</td>\n",
       "      <td>1808.0</td>\n",
       "      <td>NaN</td>\n",
       "      <td>SINGLE_FAMILY</td>\n",
       "      <td>...</td>\n",
       "      <td>2225.0</td>\n",
       "      <td>https://www.zillow.com/homedetails/128-Charman...</td>\n",
       "      <td>2251.0</td>\n",
       "      <td>Sewell, C T ES</td>\n",
       "      <td>18.8</td>\n",
       "      <td>28.6</td>\n",
       "      <td>60301</td>\n",
       "      <td>3792</td>\n",
       "      <td>79605</td>\n",
       "      <td>3748</td>\n",
       "    </tr>\n",
       "    <tr>\n",
       "      <th>2</th>\n",
       "      <td>2023-10-13</td>\n",
       "      <td>128 Charmante Tulip Ln</td>\n",
       "      <td>Henderson</td>\n",
       "      <td>NV</td>\n",
       "      <td>89015</td>\n",
       "      <td>3.0</td>\n",
       "      <td>2.5</td>\n",
       "      <td>1808.0</td>\n",
       "      <td>NaN</td>\n",
       "      <td>SINGLE_FAMILY</td>\n",
       "      <td>...</td>\n",
       "      <td>2225.0</td>\n",
       "      <td>https://www.zillow.com/homedetails/128-Charman...</td>\n",
       "      <td>2297.0</td>\n",
       "      <td>Hinman, Edna F ES</td>\n",
       "      <td>13.1</td>\n",
       "      <td>25.7</td>\n",
       "      <td>60301</td>\n",
       "      <td>3792</td>\n",
       "      <td>79605</td>\n",
       "      <td>3748</td>\n",
       "    </tr>\n",
       "    <tr>\n",
       "      <th>3</th>\n",
       "      <td>2023-10-13</td>\n",
       "      <td>128 Charmante Tulip Ln</td>\n",
       "      <td>Henderson</td>\n",
       "      <td>NV</td>\n",
       "      <td>89015</td>\n",
       "      <td>3.0</td>\n",
       "      <td>2.5</td>\n",
       "      <td>1808.0</td>\n",
       "      <td>NaN</td>\n",
       "      <td>SINGLE_FAMILY</td>\n",
       "      <td>...</td>\n",
       "      <td>2225.0</td>\n",
       "      <td>https://www.zillow.com/homedetails/128-Charman...</td>\n",
       "      <td>2313.0</td>\n",
       "      <td>Burkholder, Lyal MS</td>\n",
       "      <td>17.9</td>\n",
       "      <td>31.0</td>\n",
       "      <td>60301</td>\n",
       "      <td>3792</td>\n",
       "      <td>79605</td>\n",
       "      <td>3748</td>\n",
       "    </tr>\n",
       "    <tr>\n",
       "      <th>4</th>\n",
       "      <td>2023-10-13</td>\n",
       "      <td>128 Charmante Tulip Ln</td>\n",
       "      <td>Henderson</td>\n",
       "      <td>NV</td>\n",
       "      <td>89015</td>\n",
       "      <td>3.0</td>\n",
       "      <td>2.5</td>\n",
       "      <td>1808.0</td>\n",
       "      <td>NaN</td>\n",
       "      <td>SINGLE_FAMILY</td>\n",
       "      <td>...</td>\n",
       "      <td>2225.0</td>\n",
       "      <td>https://www.zillow.com/homedetails/128-Charman...</td>\n",
       "      <td>2249.0</td>\n",
       "      <td>McCaw, Gordon ES</td>\n",
       "      <td>66.5</td>\n",
       "      <td>71.3</td>\n",
       "      <td>60301</td>\n",
       "      <td>3792</td>\n",
       "      <td>79605</td>\n",
       "      <td>3748</td>\n",
       "    </tr>\n",
       "  </tbody>\n",
       "</table>\n",
       "<p>5 rows × 24 columns</p>\n",
       "</div>"
      ],
      "text/plain": [
       "  Date Fetched          Street Address       City State Zip_Code  # Bedrooms  \\\n",
       "0   2023-10-13  128 Charmante Tulip Ln  Henderson    NV    89015         3.0   \n",
       "1   2023-10-13  128 Charmante Tulip Ln  Henderson    NV    89015         3.0   \n",
       "2   2023-10-13  128 Charmante Tulip Ln  Henderson    NV    89015         3.0   \n",
       "3   2023-10-13  128 Charmante Tulip Ln  Henderson    NV    89015         3.0   \n",
       "4   2023-10-13  128 Charmante Tulip Ln  Henderson    NV    89015         3.0   \n",
       "\n",
       "   # Bathrooms  Living Area  Lot Area      Home Type  ...   Price  \\\n",
       "0          2.5       1808.0       NaN  SINGLE_FAMILY  ...  2225.0   \n",
       "1          2.5       1808.0       NaN  SINGLE_FAMILY  ...  2225.0   \n",
       "2          2.5       1808.0       NaN  SINGLE_FAMILY  ...  2225.0   \n",
       "3          2.5       1808.0       NaN  SINGLE_FAMILY  ...  2225.0   \n",
       "4          2.5       1808.0       NaN  SINGLE_FAMILY  ...  2225.0   \n",
       "\n",
       "                                                 URL  School Code  \\\n",
       "0  https://www.zillow.com/homedetails/128-Charman...       2319.0   \n",
       "1  https://www.zillow.com/homedetails/128-Charman...       2251.0   \n",
       "2  https://www.zillow.com/homedetails/128-Charman...       2297.0   \n",
       "3  https://www.zillow.com/homedetails/128-Charman...       2313.0   \n",
       "4  https://www.zillow.com/homedetails/128-Charman...       2249.0   \n",
       "\n",
       "           School Name  Mathematics - % Proficient ELA - % Proficient  \\\n",
       "0  Brown, B Mahlon JHS                        20.0               39.1   \n",
       "1       Sewell, C T ES                        18.8               28.6   \n",
       "2    Hinman, Edna F ES                        13.1               25.7   \n",
       "3  Burkholder, Lyal MS                        17.9               31.0   \n",
       "4     McCaw, Gordon ES                        66.5               71.3   \n",
       "\n",
       "   Median_Income Median_Income_Margin_of_Error Mean_Income  \\\n",
       "0          60301                          3792       79605   \n",
       "1          60301                          3792       79605   \n",
       "2          60301                          3792       79605   \n",
       "3          60301                          3792       79605   \n",
       "4          60301                          3792       79605   \n",
       "\n",
       "  Mean_Income_Margin_of_Error  \n",
       "0                        3748  \n",
       "1                        3748  \n",
       "2                        3748  \n",
       "3                        3748  \n",
       "4                        3748  \n",
       "\n",
       "[5 rows x 24 columns]"
      ]
     },
     "execution_count": 30,
     "metadata": {},
     "output_type": "execute_result"
    }
   ],
   "source": [
    "# Select columns with dtype 'object' and remove leading white spaces\n",
    "merged_data[merged_data.select_dtypes(include=['object']).columns] = merged_data.select_dtypes(include=['object']).apply(lambda x: x.str.strip())\n",
    "\n",
    "# Verify the changes\n",
    "merged_data.head()"
   ]
  },
  {
   "cell_type": "code",
   "execution_count": 34,
   "id": "f1fca028-1e4e-4d06-8cf9-161b8f53f3f2",
   "metadata": {
    "tags": []
   },
   "outputs": [
    {
     "name": "stdout",
     "output_type": "stream",
     "text": [
      "Number of rows where 'City' is null: 0\n"
     ]
    }
   ],
   "source": [
    "# Get count of rows where 'City' column is null\n",
    "null_city_count = merged_data['City'].isnull().sum()\n",
    "\n",
    "# Print the count\n",
    "print(\"Number of rows where 'City' is null:\", null_city_count)"
   ]
  },
  {
   "cell_type": "code",
   "execution_count": 33,
   "id": "4965b6c4-1293-4489-9bbd-209839f122ac",
   "metadata": {
    "tags": []
   },
   "outputs": [],
   "source": [
    "# Remove rows where 'City' column is null\n",
    "merged_data = merged_data.dropna(subset=['City'])"
   ]
  },
  {
   "cell_type": "code",
   "execution_count": 35,
   "id": "88463793-85ab-4d50-ab00-369d2bdafd21",
   "metadata": {
    "tags": []
   },
   "outputs": [],
   "source": [
    "# export merged data to a csv\n",
    "merged_data.to_csv(\"merged_data_17102023.csv\", index = False)"
   ]
  },
  {
   "cell_type": "code",
   "execution_count": null,
   "id": "98d8febe-9a9b-49a7-9e07-89885273faf3",
   "metadata": {},
   "outputs": [],
   "source": []
  }
 ],
 "metadata": {
  "kernelspec": {
   "display_name": "Python 3 (ipykernel)",
   "language": "python",
   "name": "python3"
  },
  "language_info": {
   "codemirror_mode": {
    "name": "ipython",
    "version": 3
   },
   "file_extension": ".py",
   "mimetype": "text/x-python",
   "name": "python",
   "nbconvert_exporter": "python",
   "pygments_lexer": "ipython3",
   "version": "3.11.5"
  }
 },
 "nbformat": 4,
 "nbformat_minor": 5
}
